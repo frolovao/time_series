{
 "cells": [
  {
   "cell_type": "markdown",
   "metadata": {
    "toc": true
   },
   "source": [
    "<h1>Содержание<span class=\"tocSkip\"></span></h1>\n",
    "<div class=\"toc\"><ul class=\"toc-item\"><li><span><a href=\"#Подготовка\" data-toc-modified-id=\"Подготовка-1\"><span class=\"toc-item-num\">1&nbsp;&nbsp;</span>Подготовка</a></span></li><li><span><a href=\"#Анализ\" data-toc-modified-id=\"Анализ-2\"><span class=\"toc-item-num\">2&nbsp;&nbsp;</span>Анализ</a></span><ul class=\"toc-item\"><li><span><a href=\"#Оценка-стационарности-ряда-с-помощью-теста-Дики-Фуллера\" data-toc-modified-id=\"Оценка-стационарности-ряда-с-помощью-теста-Дики-Фуллера-2.1\"><span class=\"toc-item-num\">2.1&nbsp;&nbsp;</span>Оценка стационарности ряда с помощью теста Дики-Фуллера</a></span></li></ul></li><li><span><a href=\"#Обучение\" data-toc-modified-id=\"Обучение-3\"><span class=\"toc-item-num\">3&nbsp;&nbsp;</span>Обучение</a></span></li><li><span><a href=\"#Тестирование\" data-toc-modified-id=\"Тестирование-4\"><span class=\"toc-item-num\">4&nbsp;&nbsp;</span>Тестирование</a></span><ul class=\"toc-item\"><li><span><a href=\"#Проверка-модели-на-адекватность:\" data-toc-modified-id=\"Проверка-модели-на-адекватность:-4.1\"><span class=\"toc-item-num\">4.1&nbsp;&nbsp;</span>Проверка модели на адекватность:</a></span></li></ul></li><li><span><a href=\"#Чек-лист-проверки\" data-toc-modified-id=\"Чек-лист-проверки-5\"><span class=\"toc-item-num\">5&nbsp;&nbsp;</span>Чек-лист проверки</a></span></li></ul></div>"
   ]
  },
  {
   "cell_type": "markdown",
   "metadata": {},
   "source": [
    "# Прогнозирование заказов такси"
   ]
  },
  {
   "cell_type": "markdown",
   "metadata": {},
   "source": [
    "## 1. Подготовка"
   ]
  },
  {
   "cell_type": "code",
   "execution_count": 5,
   "metadata": {},
   "outputs": [],
   "source": [
    "import pandas as pd\n",
    "import numpy as np\n",
    "import os\n",
    "import matplotlib.pyplot as plt\n",
    "import seaborn as sns\n",
    "\n",
    "from statsmodels.tsa.seasonal import seasonal_decompose\n",
    "from sklearn.model_selection import train_test_split, TimeSeriesSplit, GridSearchCV\n",
    "from sklearn.linear_model import LinearRegression\n",
    "from sklearn.metrics import mean_squared_error, root_mean_squared_error\n",
    "from sklearn.preprocessing import StandardScaler, MinMaxScaler\n",
    "from sklearn.pipeline import Pipeline\n",
    "from catboost import CatBoostRegressor\n",
    "from sklearn.ensemble import RandomForestRegressor\n",
    "from statsmodels.tsa.stattools import adfuller\n",
    "\n",
    "RANDOM_STATE = 42"
   ]
  },
  {
   "cell_type": "code",
   "execution_count": 6,
   "metadata": {},
   "outputs": [],
   "source": [
    "path1 = '/datasets/taxi.csv'\n",
    "path2 = 'C:/Users/kseno/OneDrive/Desktop/taxi.csv'\n",
    "\n",
    "if os.path.exists(path1):\n",
    "    taxi = pd.read_csv(path1, parse_dates=['datetime'], index_col=['datetime'])\n",
    "elif os.path.exists(path2):\n",
    "    taxi = pd.read_csv(path2, parse_dates=['datetime'], index_col=['datetime'])\n",
    "else:\n",
    "    print('Что-то пошло не так')\n",
    "    \n",
    "taxi.sort_index(inplace=True)"
   ]
  },
  {
   "cell_type": "code",
   "execution_count": 7,
   "metadata": {},
   "outputs": [],
   "source": [
    "# Ресемплирование по 1 часу\n",
    "taxi = taxi.resample('1h').sum()"
   ]
  },
  {
   "cell_type": "markdown",
   "metadata": {},
   "source": [
    "## 2. Анализ"
   ]
  },
  {
   "cell_type": "code",
   "execution_count": 9,
   "metadata": {
    "scrolled": true
   },
   "outputs": [
    {
     "data": {
      "text/html": [
       "<div>\n",
       "<style scoped>\n",
       "    .dataframe tbody tr th:only-of-type {\n",
       "        vertical-align: middle;\n",
       "    }\n",
       "\n",
       "    .dataframe tbody tr th {\n",
       "        vertical-align: top;\n",
       "    }\n",
       "\n",
       "    .dataframe thead th {\n",
       "        text-align: right;\n",
       "    }\n",
       "</style>\n",
       "<table border=\"1\" class=\"dataframe\">\n",
       "  <thead>\n",
       "    <tr style=\"text-align: right;\">\n",
       "      <th></th>\n",
       "      <th>num_orders</th>\n",
       "    </tr>\n",
       "    <tr>\n",
       "      <th>datetime</th>\n",
       "      <th></th>\n",
       "    </tr>\n",
       "  </thead>\n",
       "  <tbody>\n",
       "    <tr>\n",
       "      <th>2018-03-01 00:00:00</th>\n",
       "      <td>124</td>\n",
       "    </tr>\n",
       "    <tr>\n",
       "      <th>2018-03-01 01:00:00</th>\n",
       "      <td>85</td>\n",
       "    </tr>\n",
       "    <tr>\n",
       "      <th>2018-03-01 02:00:00</th>\n",
       "      <td>71</td>\n",
       "    </tr>\n",
       "    <tr>\n",
       "      <th>2018-03-01 03:00:00</th>\n",
       "      <td>66</td>\n",
       "    </tr>\n",
       "    <tr>\n",
       "      <th>2018-03-01 04:00:00</th>\n",
       "      <td>43</td>\n",
       "    </tr>\n",
       "  </tbody>\n",
       "</table>\n",
       "</div>"
      ],
      "text/plain": [
       "                     num_orders\n",
       "datetime                       \n",
       "2018-03-01 00:00:00         124\n",
       "2018-03-01 01:00:00          85\n",
       "2018-03-01 02:00:00          71\n",
       "2018-03-01 03:00:00          66\n",
       "2018-03-01 04:00:00          43"
      ]
     },
     "execution_count": 9,
     "metadata": {},
     "output_type": "execute_result"
    }
   ],
   "source": [
    "taxi.head()"
   ]
  },
  {
   "cell_type": "code",
   "execution_count": 10,
   "metadata": {},
   "outputs": [
    {
     "name": "stdout",
     "output_type": "stream",
     "text": [
      "<class 'pandas.core.frame.DataFrame'>\n",
      "DatetimeIndex: 4416 entries, 2018-03-01 00:00:00 to 2018-08-31 23:00:00\n",
      "Freq: h\n",
      "Data columns (total 1 columns):\n",
      " #   Column      Non-Null Count  Dtype\n",
      "---  ------      --------------  -----\n",
      " 0   num_orders  4416 non-null   int64\n",
      "dtypes: int64(1)\n",
      "memory usage: 69.0 KB\n"
     ]
    }
   ],
   "source": [
    "taxi.info()"
   ]
  },
  {
   "cell_type": "code",
   "execution_count": 11,
   "metadata": {
    "scrolled": true
   },
   "outputs": [
    {
     "data": {
      "text/html": [
       "<div>\n",
       "<style scoped>\n",
       "    .dataframe tbody tr th:only-of-type {\n",
       "        vertical-align: middle;\n",
       "    }\n",
       "\n",
       "    .dataframe tbody tr th {\n",
       "        vertical-align: top;\n",
       "    }\n",
       "\n",
       "    .dataframe thead th {\n",
       "        text-align: right;\n",
       "    }\n",
       "</style>\n",
       "<table border=\"1\" class=\"dataframe\">\n",
       "  <thead>\n",
       "    <tr style=\"text-align: right;\">\n",
       "      <th></th>\n",
       "      <th>num_orders</th>\n",
       "    </tr>\n",
       "  </thead>\n",
       "  <tbody>\n",
       "    <tr>\n",
       "      <th>count</th>\n",
       "      <td>4416.000000</td>\n",
       "    </tr>\n",
       "    <tr>\n",
       "      <th>mean</th>\n",
       "      <td>84.422781</td>\n",
       "    </tr>\n",
       "    <tr>\n",
       "      <th>std</th>\n",
       "      <td>45.023853</td>\n",
       "    </tr>\n",
       "    <tr>\n",
       "      <th>min</th>\n",
       "      <td>0.000000</td>\n",
       "    </tr>\n",
       "    <tr>\n",
       "      <th>25%</th>\n",
       "      <td>54.000000</td>\n",
       "    </tr>\n",
       "    <tr>\n",
       "      <th>50%</th>\n",
       "      <td>78.000000</td>\n",
       "    </tr>\n",
       "    <tr>\n",
       "      <th>75%</th>\n",
       "      <td>107.000000</td>\n",
       "    </tr>\n",
       "    <tr>\n",
       "      <th>max</th>\n",
       "      <td>462.000000</td>\n",
       "    </tr>\n",
       "  </tbody>\n",
       "</table>\n",
       "</div>"
      ],
      "text/plain": [
       "        num_orders\n",
       "count  4416.000000\n",
       "mean     84.422781\n",
       "std      45.023853\n",
       "min       0.000000\n",
       "25%      54.000000\n",
       "50%      78.000000\n",
       "75%     107.000000\n",
       "max     462.000000"
      ]
     },
     "execution_count": 11,
     "metadata": {},
     "output_type": "execute_result"
    }
   ],
   "source": [
    "taxi.describe()"
   ]
  },
  {
   "cell_type": "code",
   "execution_count": 12,
   "metadata": {},
   "outputs": [],
   "source": [
    "decomposed = seasonal_decompose(taxi)"
   ]
  },
  {
   "cell_type": "code",
   "execution_count": 13,
   "metadata": {},
   "outputs": [
    {
     "data": {
      "image/png": "[encoded data removed]",
      "text/plain": [
       "<Figure size 1000x800 with 3 Axes>"
      ]
     },
     "metadata": {},
     "output_type": "display_data"
    }
   ],
   "source": [
    "# Построение графиков тренда, сезонности и остатков\n",
    "plt.figure(figsize=(10, 8))\n",
    "\n",
    "plt.subplot(3, 1, 1)\n",
    "decomposed.trend.plot(ax=plt.gca())\n",
    "plt.title('Trend')\n",
    "\n",
    "plt.subplot(3, 1, 2)\n",
    "decomposed.seasonal.plot(ax=plt.gca())\n",
    "plt.title('Seasonality')\n",
    "\n",
    "plt.subplot(3, 1, 3)\n",
    "decomposed.resid.plot(ax=plt.gca())\n",
    "plt.title('Residuals')\n",
    "\n",
    "plt.tight_layout()\n",
    "plt.show()"
   ]
  },
  {
   "cell_type": "code",
   "execution_count": 14,
   "metadata": {},
   "outputs": [
    {
     "data": {
      "image/png": "[encoded data removed]",
      "text/plain": [
       "<Figure size 1400x700 with 1 Axes>"
      ]
     },
     "metadata": {},
     "output_type": "display_data"
    }
   ],
   "source": [
    "plt.figure(figsize=(14, 7))\n",
    "decomposed.seasonal['2018-03-01':'2018-03-07'].plot(ax=plt.gca())\n",
    "plt.title('Недельный график сезонности заказов такси')\n",
    "plt.show()"
   ]
  },
  {
   "cell_type": "code",
   "execution_count": 15,
   "metadata": {
    "scrolled": true
   },
   "outputs": [],
   "source": [
    "df_1 = taxi.copy()\n",
    "df_1['mean'] = df_1.shift().rolling(60).mean()"
   ]
  },
  {
   "cell_type": "code",
   "execution_count": 16,
   "metadata": {},
   "outputs": [
    {
     "data": {
      "image/png": "[encoded data removed]",
      "text/plain": [
       "<Figure size 640x480 with 1 Axes>"
      ]
     },
     "metadata": {},
     "output_type": "display_data"
    }
   ],
   "source": [
    "df_1.plot()\n",
    "plt.title('График временного ряда заказов такси')\n",
    "plt.tight_layout()\n",
    "plt.show()"
   ]
  },
  {
   "cell_type": "code",
   "execution_count": 17,
   "metadata": {},
   "outputs": [],
   "source": [
    "df_2 = taxi.copy()\n",
    "df_2 = df_2 - df_2.shift(fill_value=0)\n",
    "df_2['mean'] = df_2['num_orders'].rolling(60).mean()\n",
    "df_2['std'] = df_2['num_orders'].rolling(60).std()"
   ]
  },
  {
   "cell_type": "code",
   "execution_count": 18,
   "metadata": {
    "scrolled": true
   },
   "outputs": [
    {
     "data": {
      "image/png": "[encoded data removed]",
      "text/plain": [
       "<Figure size 640x480 with 1 Axes>"
      ]
     },
     "metadata": {},
     "output_type": "display_data"
    }
   ],
   "source": [
    "df_2.plot()\n",
    "plt.title('Смещённый график временного ряда заказов такси')\n",
    "plt.tight_layout()\n",
    "plt.show()"
   ]
  },
  {
   "cell_type": "code",
   "execution_count": 19,
   "metadata": {
    "scrolled": true
   },
   "outputs": [
    {
     "data": {
      "image/png": "[encoded data removed]",
      "text/plain": [
       "<Figure size 640x480 with 1 Axes>"
      ]
     },
     "metadata": {},
     "output_type": "display_data"
    }
   ],
   "source": [
    "taxi_days = taxi.copy()\n",
    "taxi_days = taxi_days['2018-03-01':'2018-03-15'].resample('1D').sum()\n",
    "decomposed = seasonal_decompose(taxi_days)\n",
    "decomposed.seasonal.plot()\n",
    "plt.title('Ресэмлированный по дням график сезонности заказов')\n",
    "plt.show()"
   ]
  },
  {
   "cell_type": "markdown",
   "metadata": {},
   "source": [
    "### 2.1. Оценка стационарности ряда с помощью теста Дики-Фуллера"
   ]
  },
  {
   "cell_type": "markdown",
   "metadata": {},
   "source": [
    "Гипотезы:\n",
    "* H$_0$: временной ряд нестационарный.\n",
    "* H$_1$: временной ряд стационарный."
   ]
  },
  {
   "cell_type": "code",
   "execution_count": 22,
   "metadata": {},
   "outputs": [
    {
     "name": "stdout",
     "output_type": "stream",
     "text": [
      "p-value =  0.02894005140261326\n",
      "Отвергаем нулевую гипотезу\n"
     ]
    }
   ],
   "source": [
    "alpha = .05\n",
    "adf_test = adfuller(taxi['num_orders'])\n",
    "p_value = adf_test[1]\n",
    "print('p-value = ', p_value)\n",
    "if p_value < alpha:\n",
    "    print(\"Отвергаем нулевую гипотезу\")\n",
    "else:\n",
    "    print(\"Отвергнуть нулевую гипотезу нельзя\")"
   ]
  },
  {
   "cell_type": "markdown",
   "metadata": {},
   "source": [
    "**Выводы:**\n",
    "- данные представлены с 2018-03-01 00:00:00 по 2018-08-31 23:00:00 (5 месяцев);\n",
    "- пропусков нет;\n",
    "- количество заказов имеет восходящий тренд, с ускорением в августе, происходит устойчивый рост спроса на такси;\n",
    "- в данных есть регулярные колебания в течении дня, самый высокий спорс приходится на полночь, самый низкий на утро;\n",
    "- так же есть сезонные колебания по дням недели: четверг самый активный день по количеству заказов, а в пятницу наоборот - меньше всего заказов;\n",
    "- остатки выглядят случайными, но есть всплески в конце периода, возможно это какие-то события, которые влияют на количество заказов;\n",
    "- для оценки стационарности ряда был проведён тест Дики-Фуллера, по его результатам ряд является стационарным."
   ]
  },
  {
   "cell_type": "markdown",
   "metadata": {},
   "source": [
    "## 3. Обучение"
   ]
  },
  {
   "cell_type": "code",
   "execution_count": 25,
   "metadata": {},
   "outputs": [],
   "source": [
    "# Функция для создания новых признаков\n",
    "def make_features(taxi, max_lag, rolling_mean_size):\n",
    "    df = taxi.copy()\n",
    "    df['day'] = df.index.day\n",
    "    df['dayofweek'] = df.index.dayofweek\n",
    "    df['is_weekend'] = df.dayofweek.isin([5,6])*1\n",
    "    \n",
    "    for lag in range(1, max_lag + 1):\n",
    "        df['lag_{}'.format(lag)] = df['num_orders'].shift(lag)\n",
    "        \n",
    "    df['rolling_mean'] = df['num_orders'].shift().rolling(rolling_mean_size).mean()\n",
    "    \n",
    "    return df.dropna()"
   ]
  },
  {
   "cell_type": "code",
   "execution_count": 26,
   "metadata": {
    "scrolled": true
   },
   "outputs": [],
   "source": [
    "# Применение функции и подбор признаков\n",
    "taxi_new = make_features(taxi, 22, 24)"
   ]
  },
  {
   "cell_type": "code",
   "execution_count": 27,
   "metadata": {},
   "outputs": [],
   "source": [
    "# Подбор гиперпараметров\n",
    "train, test = train_test_split(taxi_new, shuffle=False, test_size=0.1)\n",
    "train = train.dropna()\n",
    "X_train = train.drop('num_orders', axis=1)\n",
    "y_train = train['num_orders']\n",
    "X_test = test.drop('num_orders', axis=1)\n",
    "y_test = test['num_orders']\n",
    "\n",
    "cv = TimeSeriesSplit(n_splits=5).split(X_train)\n",
    "\n",
    "pipe_final = Pipeline([\n",
    "    ('scaler', 'passthrough'),\n",
    "    ('model', LinearRegression())])\n",
    "\n",
    "params = [{\n",
    "        'model': [LinearRegression()],\n",
    "        'scaler': [StandardScaler(), MinMaxScaler(), 'passthrough']\n",
    "    },\n",
    "    {'model': [RandomForestRegressor(random_state=RANDOM_STATE)],\n",
    "        'model__n_estimators': [100, 200],\n",
    "        'model__max_depth': [None, 10, 20]\n",
    "    },\n",
    "    {'model': [CatBoostRegressor(random_state=RANDOM_STATE, verbose=False)],\n",
    "        'model__iterations': [100, 200],\n",
    "        'model__learning_rate': [0.01, 0.1]\n",
    "    }\n",
    "]\n",
    "\n",
    "grid_search = GridSearchCV(\n",
    "    pipe_final,\n",
    "    params,\n",
    "    cv=cv,\n",
    "    scoring='neg_root_mean_squared_error',\n",
    "    n_jobs=-1\n",
    ")"
   ]
  },
  {
   "cell_type": "code",
   "execution_count": 28,
   "metadata": {},
   "outputs": [
    {
     "data": {
      "text/html": [
       "<style>#sk-container-id-1 {\n",
       "  /* Definition of color scheme common for light and dark mode */\n",
       "  --sklearn-color-text: black;\n",
       "  --sklearn-color-line: gray;\n",
       "  /* Definition of color scheme for unfitted estimators */\n",
       "  --sklearn-color-unfitted-level-0: #fff5e6;\n",
       "  --sklearn-color-unfitted-level-1: #f6e4d2;\n",
       "  --sklearn-color-unfitted-level-2: #ffe0b3;\n",
       "  --sklearn-color-unfitted-level-3: chocolate;\n",
       "  /* Definition of color scheme for fitted estimators */\n",
       "  --sklearn-color-fitted-level-0: #f0f8ff;\n",
       "  --sklearn-color-fitted-level-1: #d4ebff;\n",
       "  --sklearn-color-fitted-level-2: #b3dbfd;\n",
       "  --sklearn-color-fitted-level-3: cornflowerblue;\n",
       "\n",
       "  /* Specific color for light theme */\n",
       "  --sklearn-color-text-on-default-background: var(--sg-text-color, var(--theme-code-foreground, var(--jp-content-font-color1, black)));\n",
       "  --sklearn-color-background: var(--sg-background-color, var(--theme-background, var(--jp-layout-color0, white)));\n",
       "  --sklearn-color-border-box: var(--sg-text-color, var(--theme-code-foreground, var(--jp-content-font-color1, black)));\n",
       "  --sklearn-color-icon: #696969;\n",
       "\n",
       "  @media (prefers-color-scheme: dark) {\n",
       "    /* Redefinition of color scheme for dark theme */\n",
       "    --sklearn-color-text-on-default-background: var(--sg-text-color, var(--theme-code-foreground, var(--jp-content-font-color1, white)));\n",
       "    --sklearn-color-background: var(--sg-background-color, var(--theme-background, var(--jp-layout-color0, #111)));\n",
       "    --sklearn-color-border-box: var(--sg-text-color, var(--theme-code-foreground, var(--jp-content-font-color1, white)));\n",
       "    --sklearn-color-icon: #878787;\n",
       "  }\n",
       "}\n",
       "\n",
       "#sk-container-id-1 {\n",
       "  color: var(--sklearn-color-text);\n",
       "}\n",
       "\n",
       "#sk-container-id-1 pre {\n",
       "  padding: 0;\n",
       "}\n",
       "\n",
       "#sk-container-id-1 input.sk-hidden--visually {\n",
       "  border: 0;\n",
       "  clip: rect(1px 1px 1px 1px);\n",
       "  clip: rect(1px, 1px, 1px, 1px);\n",
       "  height: 1px;\n",
       "  margin: -1px;\n",
       "  overflow: hidden;\n",
       "  padding: 0;\n",
       "  position: absolute;\n",
       "  width: 1px;\n",
       "}\n",
       "\n",
       "#sk-container-id-1 div.sk-dashed-wrapped {\n",
       "  border: 1px dashed var(--sklearn-color-line);\n",
       "  margin: 0 0.4em 0.5em 0.4em;\n",
       "  box-sizing: border-box;\n",
       "  padding-bottom: 0.4em;\n",
       "  background-color: var(--sklearn-color-background);\n",
       "}\n",
       "\n",
       "#sk-container-id-1 div.sk-container {\n",
       "  /* jupyter's `normalize.less` sets `[hidden] { display: none; }`\n",
       "     but bootstrap.min.css set `[hidden] { display: none !important; }`\n",
       "     so we also need the `!important` here to be able to override the\n",
       "     default hidden behavior on the sphinx rendered scikit-learn.org.\n",
       "     See: https://github.com/scikit-learn/scikit-learn/issues/21755 */\n",
       "  display: inline-block !important;\n",
       "  position: relative;\n",
       "}\n",
       "\n",
       "#sk-container-id-1 div.sk-text-repr-fallback {\n",
       "  display: none;\n",
       "}\n",
       "\n",
       "div.sk-parallel-item,\n",
       "div.sk-serial,\n",
       "div.sk-item {\n",
       "  /* draw centered vertical line to link estimators */\n",
       "  background-image: linear-gradient(var(--sklearn-color-text-on-default-background), var(--sklearn-color-text-on-default-background));\n",
       "  background-size: 2px 100%;\n",
       "  background-repeat: no-repeat;\n",
       "  background-position: center center;\n",
       "}\n",
       "\n",
       "/* Parallel-specific style estimator block */\n",
       "\n",
       "#sk-container-id-1 div.sk-parallel-item::after {\n",
       "  content: \"\";\n",
       "  width: 100%;\n",
       "  border-bottom: 2px solid var(--sklearn-color-text-on-default-background);\n",
       "  flex-grow: 1;\n",
       "}\n",
       "\n",
       "#sk-container-id-1 div.sk-parallel {\n",
       "  display: flex;\n",
       "  align-items: stretch;\n",
       "  justify-content: center;\n",
       "  background-color: var(--sklearn-color-background);\n",
       "  position: relative;\n",
       "}\n",
       "\n",
       "#sk-container-id-1 div.sk-parallel-item {\n",
       "  display: flex;\n",
       "  flex-direction: column;\n",
       "}\n",
       "\n",
       "#sk-container-id-1 div.sk-parallel-item:first-child::after {\n",
       "  align-self: flex-end;\n",
       "  width: 50%;\n",
       "}\n",
       "\n",
       "#sk-container-id-1 div.sk-parallel-item:last-child::after {\n",
       "  align-self: flex-start;\n",
       "  width: 50%;\n",
       "}\n",
       "\n",
       "#sk-container-id-1 div.sk-parallel-item:only-child::after {\n",
       "  width: 0;\n",
       "}\n",
       "\n",
       "/* Serial-specific style estimator block */\n",
       "\n",
       "#sk-container-id-1 div.sk-serial {\n",
       "  display: flex;\n",
       "  flex-direction: column;\n",
       "  align-items: center;\n",
       "  background-color: var(--sklearn-color-background);\n",
       "  padding-right: 1em;\n",
       "  padding-left: 1em;\n",
       "}\n",
       "\n",
       "\n",
       "/* Toggleable style: style used for estimator/Pipeline/ColumnTransformer box that is\n",
       "clickable and can be expanded/collapsed.\n",
       "- Pipeline and ColumnTransformer use this feature and define the default style\n",
       "- Estimators will overwrite some part of the style using the `sk-estimator` class\n",
       "*/\n",
       "\n",
       "/* Pipeline and ColumnTransformer style (default) */\n",
       "\n",
       "#sk-container-id-1 div.sk-toggleable {\n",
       "  /* Default theme specific background. It is overwritten whether we have a\n",
       "  specific estimator or a Pipeline/ColumnTransformer */\n",
       "  background-color: var(--sklearn-color-background);\n",
       "}\n",
       "\n",
       "/* Toggleable label */\n",
       "#sk-container-id-1 label.sk-toggleable__label {\n",
       "  cursor: pointer;\n",
       "  display: block;\n",
       "  width: 100%;\n",
       "  margin-bottom: 0;\n",
       "  padding: 0.5em;\n",
       "  box-sizing: border-box;\n",
       "  text-align: center;\n",
       "}\n",
       "\n",
       "#sk-container-id-1 label.sk-toggleable__label-arrow:before {\n",
       "  /* Arrow on the left of the label */\n",
       "  content: \"▸\";\n",
       "  float: left;\n",
       "  margin-right: 0.25em;\n",
       "  color: var(--sklearn-color-icon);\n",
       "}\n",
       "\n",
       "#sk-container-id-1 label.sk-toggleable__label-arrow:hover:before {\n",
       "  color: var(--sklearn-color-text);\n",
       "}\n",
       "\n",
       "/* Toggleable content - dropdown */\n",
       "\n",
       "#sk-container-id-1 div.sk-toggleable__content {\n",
       "  max-height: 0;\n",
       "  max-width: 0;\n",
       "  overflow: hidden;\n",
       "  text-align: left;\n",
       "  /* unfitted */\n",
       "  background-color: var(--sklearn-color-unfitted-level-0);\n",
       "}\n",
       "\n",
       "#sk-container-id-1 div.sk-toggleable__content.fitted {\n",
       "  /* fitted */\n",
       "  background-color: var(--sklearn-color-fitted-level-0);\n",
       "}\n",
       "\n",
       "#sk-container-id-1 div.sk-toggleable__content pre {\n",
       "  margin: 0.2em;\n",
       "  border-radius: 0.25em;\n",
       "  color: var(--sklearn-color-text);\n",
       "  /* unfitted */\n",
       "  background-color: var(--sklearn-color-unfitted-level-0);\n",
       "}\n",
       "\n",
       "#sk-container-id-1 div.sk-toggleable__content.fitted pre {\n",
       "  /* unfitted */\n",
       "  background-color: var(--sklearn-color-fitted-level-0);\n",
       "}\n",
       "\n",
       "#sk-container-id-1 input.sk-toggleable__control:checked~div.sk-toggleable__content {\n",
       "  /* Expand drop-down */\n",
       "  max-height: 200px;\n",
       "  max-width: 100%;\n",
       "  overflow: auto;\n",
       "}\n",
       "\n",
       "#sk-container-id-1 input.sk-toggleable__control:checked~label.sk-toggleable__label-arrow:before {\n",
       "  content: \"▾\";\n",
       "}\n",
       "\n",
       "/* Pipeline/ColumnTransformer-specific style */\n",
       "\n",
       "#sk-container-id-1 div.sk-label input.sk-toggleable__control:checked~label.sk-toggleable__label {\n",
       "  color: var(--sklearn-color-text);\n",
       "  background-color: var(--sklearn-color-unfitted-level-2);\n",
       "}\n",
       "\n",
       "#sk-container-id-1 div.sk-label.fitted input.sk-toggleable__control:checked~label.sk-toggleable__label {\n",
       "  background-color: var(--sklearn-color-fitted-level-2);\n",
       "}\n",
       "\n",
       "/* Estimator-specific style */\n",
       "\n",
       "/* Colorize estimator box */\n",
       "#sk-container-id-1 div.sk-estimator input.sk-toggleable__control:checked~label.sk-toggleable__label {\n",
       "  /* unfitted */\n",
       "  background-color: var(--sklearn-color-unfitted-level-2);\n",
       "}\n",
       "\n",
       "#sk-container-id-1 div.sk-estimator.fitted input.sk-toggleable__control:checked~label.sk-toggleable__label {\n",
       "  /* fitted */\n",
       "  background-color: var(--sklearn-color-fitted-level-2);\n",
       "}\n",
       "\n",
       "#sk-container-id-1 div.sk-label label.sk-toggleable__label,\n",
       "#sk-container-id-1 div.sk-label label {\n",
       "  /* The background is the default theme color */\n",
       "  color: var(--sklearn-color-text-on-default-background);\n",
       "}\n",
       "\n",
       "/* On hover, darken the color of the background */\n",
       "#sk-container-id-1 div.sk-label:hover label.sk-toggleable__label {\n",
       "  color: var(--sklearn-color-text);\n",
       "  background-color: var(--sklearn-color-unfitted-level-2);\n",
       "}\n",
       "\n",
       "/* Label box, darken color on hover, fitted */\n",
       "#sk-container-id-1 div.sk-label.fitted:hover label.sk-toggleable__label.fitted {\n",
       "  color: var(--sklearn-color-text);\n",
       "  background-color: var(--sklearn-color-fitted-level-2);\n",
       "}\n",
       "\n",
       "/* Estimator label */\n",
       "\n",
       "#sk-container-id-1 div.sk-label label {\n",
       "  font-family: monospace;\n",
       "  font-weight: bold;\n",
       "  display: inline-block;\n",
       "  line-height: 1.2em;\n",
       "}\n",
       "\n",
       "#sk-container-id-1 div.sk-label-container {\n",
       "  text-align: center;\n",
       "}\n",
       "\n",
       "/* Estimator-specific */\n",
       "#sk-container-id-1 div.sk-estimator {\n",
       "  font-family: monospace;\n",
       "  border: 1px dotted var(--sklearn-color-border-box);\n",
       "  border-radius: 0.25em;\n",
       "  box-sizing: border-box;\n",
       "  margin-bottom: 0.5em;\n",
       "  /* unfitted */\n",
       "  background-color: var(--sklearn-color-unfitted-level-0);\n",
       "}\n",
       "\n",
       "#sk-container-id-1 div.sk-estimator.fitted {\n",
       "  /* fitted */\n",
       "  background-color: var(--sklearn-color-fitted-level-0);\n",
       "}\n",
       "\n",
       "/* on hover */\n",
       "#sk-container-id-1 div.sk-estimator:hover {\n",
       "  /* unfitted */\n",
       "  background-color: var(--sklearn-color-unfitted-level-2);\n",
       "}\n",
       "\n",
       "#sk-container-id-1 div.sk-estimator.fitted:hover {\n",
       "  /* fitted */\n",
       "  background-color: var(--sklearn-color-fitted-level-2);\n",
       "}\n",
       "\n",
       "/* Specification for estimator info (e.g. \"i\" and \"?\") */\n",
       "\n",
       "/* Common style for \"i\" and \"?\" */\n",
       "\n",
       ".sk-estimator-doc-link,\n",
       "a:link.sk-estimator-doc-link,\n",
       "a:visited.sk-estimator-doc-link {\n",
       "  float: right;\n",
       "  font-size: smaller;\n",
       "  line-height: 1em;\n",
       "  font-family: monospace;\n",
       "  background-color: var(--sklearn-color-background);\n",
       "  border-radius: 1em;\n",
       "  height: 1em;\n",
       "  width: 1em;\n",
       "  text-decoration: none !important;\n",
       "  margin-left: 1ex;\n",
       "  /* unfitted */\n",
       "  border: var(--sklearn-color-unfitted-level-1) 1pt solid;\n",
       "  color: var(--sklearn-color-unfitted-level-1);\n",
       "}\n",
       "\n",
       ".sk-estimator-doc-link.fitted,\n",
       "a:link.sk-estimator-doc-link.fitted,\n",
       "a:visited.sk-estimator-doc-link.fitted {\n",
       "  /* fitted */\n",
       "  border: var(--sklearn-color-fitted-level-1) 1pt solid;\n",
       "  color: var(--sklearn-color-fitted-level-1);\n",
       "}\n",
       "\n",
       "/* On hover */\n",
       "div.sk-estimator:hover .sk-estimator-doc-link:hover,\n",
       ".sk-estimator-doc-link:hover,\n",
       "div.sk-label-container:hover .sk-estimator-doc-link:hover,\n",
       ".sk-estimator-doc-link:hover {\n",
       "  /* unfitted */\n",
       "  background-color: var(--sklearn-color-unfitted-level-3);\n",
       "  color: var(--sklearn-color-background);\n",
       "  text-decoration: none;\n",
       "}\n",
       "\n",
       "div.sk-estimator.fitted:hover .sk-estimator-doc-link.fitted:hover,\n",
       ".sk-estimator-doc-link.fitted:hover,\n",
       "div.sk-label-container:hover .sk-estimator-doc-link.fitted:hover,\n",
       ".sk-estimator-doc-link.fitted:hover {\n",
       "  /* fitted */\n",
       "  background-color: var(--sklearn-color-fitted-level-3);\n",
       "  color: var(--sklearn-color-background);\n",
       "  text-decoration: none;\n",
       "}\n",
       "\n",
       "/* Span, style for the box shown on hovering the info icon */\n",
       ".sk-estimator-doc-link span {\n",
       "  display: none;\n",
       "  z-index: 9999;\n",
       "  position: relative;\n",
       "  font-weight: normal;\n",
       "  right: .2ex;\n",
       "  padding: .5ex;\n",
       "  margin: .5ex;\n",
       "  width: min-content;\n",
       "  min-width: 20ex;\n",
       "  max-width: 50ex;\n",
       "  color: var(--sklearn-color-text);\n",
       "  box-shadow: 2pt 2pt 4pt #999;\n",
       "  /* unfitted */\n",
       "  background: var(--sklearn-color-unfitted-level-0);\n",
       "  border: .5pt solid var(--sklearn-color-unfitted-level-3);\n",
       "}\n",
       "\n",
       ".sk-estimator-doc-link.fitted span {\n",
       "  /* fitted */\n",
       "  background: var(--sklearn-color-fitted-level-0);\n",
       "  border: var(--sklearn-color-fitted-level-3);\n",
       "}\n",
       "\n",
       ".sk-estimator-doc-link:hover span {\n",
       "  display: block;\n",
       "}\n",
       "\n",
       "/* \"?\"-specific style due to the `<a>` HTML tag */\n",
       "\n",
       "#sk-container-id-1 a.estimator_doc_link {\n",
       "  float: right;\n",
       "  font-size: 1rem;\n",
       "  line-height: 1em;\n",
       "  font-family: monospace;\n",
       "  background-color: var(--sklearn-color-background);\n",
       "  border-radius: 1rem;\n",
       "  height: 1rem;\n",
       "  width: 1rem;\n",
       "  text-decoration: none;\n",
       "  /* unfitted */\n",
       "  color: var(--sklearn-color-unfitted-level-1);\n",
       "  border: var(--sklearn-color-unfitted-level-1) 1pt solid;\n",
       "}\n",
       "\n",
       "#sk-container-id-1 a.estimator_doc_link.fitted {\n",
       "  /* fitted */\n",
       "  border: var(--sklearn-color-fitted-level-1) 1pt solid;\n",
       "  color: var(--sklearn-color-fitted-level-1);\n",
       "}\n",
       "\n",
       "/* On hover */\n",
       "#sk-container-id-1 a.estimator_doc_link:hover {\n",
       "  /* unfitted */\n",
       "  background-color: var(--sklearn-color-unfitted-level-3);\n",
       "  color: var(--sklearn-color-background);\n",
       "  text-decoration: none;\n",
       "}\n",
       "\n",
       "#sk-container-id-1 a.estimator_doc_link.fitted:hover {\n",
       "  /* fitted */\n",
       "  background-color: var(--sklearn-color-fitted-level-3);\n",
       "}\n",
       "</style><div id=\"sk-container-id-1\" class=\"sk-top-container\"><div class=\"sk-text-repr-fallback\"><pre>GridSearchCV(cv=&lt;generator object TimeSeriesSplit._split at 0x000002F47467BDF0&gt;,\n",
       "             estimator=Pipeline(steps=[(&#x27;scaler&#x27;, &#x27;passthrough&#x27;),\n",
       "                                       (&#x27;model&#x27;, LinearRegression())]),\n",
       "             n_jobs=-1,\n",
       "             param_grid=[{&#x27;model&#x27;: [LinearRegression()],\n",
       "                          &#x27;scaler&#x27;: [StandardScaler(), MinMaxScaler(),\n",
       "                                     &#x27;passthrough&#x27;]},\n",
       "                         {&#x27;model&#x27;: [RandomForestRegressor(random_state=42)],\n",
       "                          &#x27;model__max_depth&#x27;: [None, 10, 20],\n",
       "                          &#x27;model__n_estimators&#x27;: [100, 200]},\n",
       "                         {&#x27;model&#x27;: [&lt;catboost.core.CatBoostRegressor object at 0x000002F477607B90&gt;],\n",
       "                          &#x27;model__iterations&#x27;: [100, 200],\n",
       "                          &#x27;model__learning_rate&#x27;: [0.01, 0.1]}],\n",
       "             scoring=&#x27;neg_root_mean_squared_error&#x27;)</pre><b>In a Jupyter environment, please rerun this cell to show the HTML representation or trust the notebook. <br />On GitHub, the HTML representation is unable to render, please try loading this page with nbviewer.org.</b></div><div class=\"sk-container\" hidden><div class=\"sk-item sk-dashed-wrapped\"><div class=\"sk-label-container\"><div class=\"sk-label fitted sk-toggleable\"><input class=\"sk-toggleable__control sk-hidden--visually\" id=\"sk-estimator-id-1\" type=\"checkbox\" ><label for=\"sk-estimator-id-1\" class=\"sk-toggleable__label fitted sk-toggleable__label-arrow fitted\">&nbsp;&nbsp;GridSearchCV<a class=\"sk-estimator-doc-link fitted\" rel=\"noreferrer\" target=\"_blank\" href=\"https://scikit-learn.org/1.5/modules/generated/sklearn.model_selection.GridSearchCV.html\">?<span>Documentation for GridSearchCV</span></a><span class=\"sk-estimator-doc-link fitted\">i<span>Fitted</span></span></label><div class=\"sk-toggleable__content fitted\"><pre>GridSearchCV(cv=&lt;generator object TimeSeriesSplit._split at 0x000002F47467BDF0&gt;,\n",
       "             estimator=Pipeline(steps=[(&#x27;scaler&#x27;, &#x27;passthrough&#x27;),\n",
       "                                       (&#x27;model&#x27;, LinearRegression())]),\n",
       "             n_jobs=-1,\n",
       "             param_grid=[{&#x27;model&#x27;: [LinearRegression()],\n",
       "                          &#x27;scaler&#x27;: [StandardScaler(), MinMaxScaler(),\n",
       "                                     &#x27;passthrough&#x27;]},\n",
       "                         {&#x27;model&#x27;: [RandomForestRegressor(random_state=42)],\n",
       "                          &#x27;model__max_depth&#x27;: [None, 10, 20],\n",
       "                          &#x27;model__n_estimators&#x27;: [100, 200]},\n",
       "                         {&#x27;model&#x27;: [&lt;catboost.core.CatBoostRegressor object at 0x000002F477607B90&gt;],\n",
       "                          &#x27;model__iterations&#x27;: [100, 200],\n",
       "                          &#x27;model__learning_rate&#x27;: [0.01, 0.1]}],\n",
       "             scoring=&#x27;neg_root_mean_squared_error&#x27;)</pre></div> </div></div><div class=\"sk-parallel\"><div class=\"sk-parallel-item\"><div class=\"sk-item\"><div class=\"sk-label-container\"><div class=\"sk-label fitted sk-toggleable\"><input class=\"sk-toggleable__control sk-hidden--visually\" id=\"sk-estimator-id-2\" type=\"checkbox\" ><label for=\"sk-estimator-id-2\" class=\"sk-toggleable__label fitted sk-toggleable__label-arrow fitted\">best_estimator_: Pipeline</label><div class=\"sk-toggleable__content fitted\"><pre>Pipeline(steps=[(&#x27;scaler&#x27;, &#x27;passthrough&#x27;),\n",
       "                (&#x27;model&#x27;,\n",
       "                 &lt;catboost.core.CatBoostRegressor object at 0x000002F477605670&gt;)])</pre></div> </div></div><div class=\"sk-serial\"><div class=\"sk-item\"><div class=\"sk-serial\"><div class=\"sk-item\"><div class=\"sk-estimator fitted sk-toggleable\"><input class=\"sk-toggleable__control sk-hidden--visually\" id=\"sk-estimator-id-3\" type=\"checkbox\" ><label for=\"sk-estimator-id-3\" class=\"sk-toggleable__label fitted sk-toggleable__label-arrow fitted\">passthrough</label><div class=\"sk-toggleable__content fitted\"><pre>passthrough</pre></div> </div></div><div class=\"sk-item\"><div class=\"sk-estimator fitted sk-toggleable\"><input class=\"sk-toggleable__control sk-hidden--visually\" id=\"sk-estimator-id-4\" type=\"checkbox\" ><label for=\"sk-estimator-id-4\" class=\"sk-toggleable__label fitted sk-toggleable__label-arrow fitted\">CatBoostRegressor</label><div class=\"sk-toggleable__content fitted\"><pre>&lt;catboost.core.CatBoostRegressor object at 0x000002F477605670&gt;</pre></div> </div></div></div></div></div></div></div></div></div></div></div>"
      ],
      "text/plain": [
       "GridSearchCV(cv=<generator object TimeSeriesSplit._split at 0x000002F47467BDF0>,\n",
       "             estimator=Pipeline(steps=[('scaler', 'passthrough'),\n",
       "                                       ('model', LinearRegression())]),\n",
       "             n_jobs=-1,\n",
       "             param_grid=[{'model': [LinearRegression()],\n",
       "                          'scaler': [StandardScaler(), MinMaxScaler(),\n",
       "                                     'passthrough']},\n",
       "                         {'model': [RandomForestRegressor(random_state=42)],\n",
       "                          'model__max_depth': [None, 10, 20],\n",
       "                          'model__n_estimators': [100, 200]},\n",
       "                         {'model': [<catboost.core.CatBoostRegressor object at 0x000002F477607B90>],\n",
       "                          'model__iterations': [100, 200],\n",
       "                          'model__learning_rate': [0.01, 0.1]}],\n",
       "             scoring='neg_root_mean_squared_error')"
      ]
     },
     "execution_count": 28,
     "metadata": {},
     "output_type": "execute_result"
    }
   ],
   "source": [
    "# Обучение моделей\n",
    "grid_search.fit(X_train, y_train)"
   ]
  },
  {
   "cell_type": "code",
   "execution_count": 29,
   "metadata": {},
   "outputs": [
    {
     "data": {
      "text/plain": [
       "('Лучшая модель и её параметры',\n",
       " Pipeline(steps=[('scaler', 'passthrough'),\n",
       "                 ('model',\n",
       "                  <catboost.core.CatBoostRegressor object at 0x000002F477605670>)]))"
      ]
     },
     "execution_count": 29,
     "metadata": {},
     "output_type": "execute_result"
    }
   ],
   "source": [
    "best_model = grid_search.best_estimator_\n",
    "'Лучшая модель и её параметры', best_model"
   ]
  },
  {
   "cell_type": "code",
   "execution_count": 30,
   "metadata": {},
   "outputs": [
    {
     "data": {
      "text/plain": [
       "('Метрика лучшей моделии на кросс-валидации', -27.479793668912475)"
      ]
     },
     "execution_count": 30,
     "metadata": {},
     "output_type": "execute_result"
    }
   ],
   "source": [
    "'Метрика лучшей моделии на кросс-валидации', grid_search.best_score_"
   ]
  },
  {
   "cell_type": "markdown",
   "metadata": {},
   "source": [
    "**Вывод:**\n",
    "- подготовлена функция для создания признаков;\n",
    "- в пайплайне были обучены модели: `LinearRegression`, `RandomForestRegressor` и `CatBoostRegressor`;\n",
    "- для них были подобраны гиперпараметры;\n",
    "- лучшей оказалась модель `CatBoostRegressor`;\n",
    "- её метрика на кросс-валидации составила 27."
   ]
  },
  {
   "cell_type": "markdown",
   "metadata": {},
   "source": [
    "## 4. Тестирование"
   ]
  },
  {
   "cell_type": "code",
   "execution_count": 33,
   "metadata": {},
   "outputs": [],
   "source": [
    "# Получение предсказаний на лучшей модели\n",
    "y_pred = best_model.predict(X_test)"
   ]
  },
  {
   "cell_type": "code",
   "execution_count": 34,
   "metadata": {
    "scrolled": true
   },
   "outputs": [
    {
     "data": {
      "text/plain": [
       "('Метрика лучшей модели на тестовых данных', 47.92787720532873)"
      ]
     },
     "execution_count": 34,
     "metadata": {},
     "output_type": "execute_result"
    }
   ],
   "source": [
    "rmse = root_mean_squared_error(y_test, y_pred)\n",
    "'Метрика лучшей модели на тестовых данных', rmse"
   ]
  },
  {
   "cell_type": "markdown",
   "metadata": {},
   "source": [
    "### 4.1. Проверка модели на адекватность:"
   ]
  },
  {
   "cell_type": "code",
   "execution_count": 36,
   "metadata": {},
   "outputs": [
    {
     "data": {
      "text/plain": [
       "('Метрика RMSE при предсказании константой', 87.21093811714634)"
      ]
     },
     "execution_count": 36,
     "metadata": {},
     "output_type": "execute_result"
    }
   ],
   "source": [
    "pred_median = np.ones(y_test.shape) * y_train.median()\n",
    "rmse = root_mean_squared_error(y_test, pred_median)\n",
    "'Метрика RMSE при предсказании константой', rmse"
   ]
  },
  {
   "cell_type": "code",
   "execution_count": 37,
   "metadata": {},
   "outputs": [
    {
     "data": {
      "text/plain": [
       "('Метрика RMSE при прогнозировании предыдущим значением ряда',\n",
       " 58.881776776551476)"
      ]
     },
     "execution_count": 37,
     "metadata": {},
     "output_type": "execute_result"
    }
   ],
   "source": [
    "pred_shift = y_test.shift()\n",
    "pred_shift.iloc[0] = y_train.iloc[-1]\n",
    "rmse = root_mean_squared_error(y_test, pred_shift)\n",
    "'Метрика RMSE при прогнозировании предыдущим значением ряда', rmse"
   ]
  },
  {
   "cell_type": "markdown",
   "metadata": {},
   "source": [
    "**Вывод:**\n",
    "- метрика RMSE лучшей модели (`CatBoostRegressor`) на тестовых данных составляет 48;\n",
    "- метрика RMSE при предсказании константой: 87;\n",
    "- метрика RMSE при прогнозировании предыдущим значением ряда: 59;\n",
    "- модель прошла тест на адекватность, её метрика значительно лучше."
   ]
  },
  {
   "cell_type": "code",
   "execution_count": null,
   "metadata": {},
   "outputs": [],
   "source": []
  }
 ],
 "metadata": {
  "ExecuteTimeLog": [
   {
    "duration": 1824,
    "start_time": "2024-10-02T13:14:13.921Z"
   },
   {
    "duration": 103,
    "start_time": "2024-10-02T13:14:42.256Z"
   },
   {
    "duration": 11,
    "start_time": "2024-10-02T13:14:55.319Z"
   },
   {
    "duration": 12,
    "start_time": "2024-10-02T13:15:08.744Z"
   },
   {
    "duration": 13,
    "start_time": "2024-10-02T13:15:19.447Z"
   },
   {
    "duration": 4,
    "start_time": "2024-10-02T13:17:20.898Z"
   },
   {
    "duration": 4,
    "start_time": "2024-10-02T13:18:13.040Z"
   },
   {
    "duration": 10,
    "start_time": "2024-10-02T13:26:46.924Z"
   },
   {
    "duration": 8,
    "start_time": "2024-10-02T13:26:48.895Z"
   },
   {
    "duration": 15,
    "start_time": "2024-10-02T13:26:56.853Z"
   },
   {
    "duration": 16,
    "start_time": "2024-10-02T13:27:05.773Z"
   },
   {
    "duration": 1588,
    "start_time": "2024-10-02T13:27:42.492Z"
   },
   {
    "duration": 64,
    "start_time": "2024-10-02T13:27:44.083Z"
   },
   {
    "duration": 6,
    "start_time": "2024-10-02T13:27:44.148Z"
   },
   {
    "duration": 6,
    "start_time": "2024-10-02T13:27:44.157Z"
   },
   {
    "duration": 11,
    "start_time": "2024-10-02T13:27:44.165Z"
   },
   {
    "duration": 12,
    "start_time": "2024-10-02T13:27:44.177Z"
   },
   {
    "duration": 33,
    "start_time": "2024-10-02T13:27:44.191Z"
   },
   {
    "duration": 1510,
    "start_time": "2024-10-02T13:28:12.920Z"
   },
   {
    "duration": 54,
    "start_time": "2024-10-02T13:28:14.432Z"
   },
   {
    "duration": 5,
    "start_time": "2024-10-02T13:28:14.488Z"
   },
   {
    "duration": 10,
    "start_time": "2024-10-02T13:28:14.496Z"
   },
   {
    "duration": 12,
    "start_time": "2024-10-02T13:28:14.508Z"
   },
   {
    "duration": 17,
    "start_time": "2024-10-02T13:28:14.522Z"
   },
   {
    "duration": 14,
    "start_time": "2024-10-02T13:28:14.541Z"
   },
   {
    "duration": 1544,
    "start_time": "2024-10-02T13:34:40.094Z"
   },
   {
    "duration": 53,
    "start_time": "2024-10-02T13:34:41.640Z"
   },
   {
    "duration": 6,
    "start_time": "2024-10-02T13:34:41.695Z"
   },
   {
    "duration": 20,
    "start_time": "2024-10-02T13:34:41.704Z"
   },
   {
    "duration": 11,
    "start_time": "2024-10-02T13:34:41.725Z"
   },
   {
    "duration": 11,
    "start_time": "2024-10-02T13:34:41.738Z"
   },
   {
    "duration": 12,
    "start_time": "2024-10-02T13:34:41.751Z"
   },
   {
    "duration": 290,
    "start_time": "2024-10-02T13:34:41.765Z"
   },
   {
    "duration": 365,
    "start_time": "2024-10-02T13:39:22.966Z"
   },
   {
    "duration": 472,
    "start_time": "2024-10-02T13:40:17.424Z"
   },
   {
    "duration": 6,
    "start_time": "2024-10-02T13:41:50.038Z"
   },
   {
    "duration": 401,
    "start_time": "2024-10-02T13:41:52.240Z"
   },
   {
    "duration": 6,
    "start_time": "2024-10-02T13:42:01.784Z"
   },
   {
    "duration": 419,
    "start_time": "2024-10-02T13:42:02.316Z"
   },
   {
    "duration": 5,
    "start_time": "2024-10-02T13:42:11.500Z"
   },
   {
    "duration": 427,
    "start_time": "2024-10-02T13:42:11.981Z"
   },
   {
    "duration": 7,
    "start_time": "2024-10-02T13:42:26.721Z"
   },
   {
    "duration": 424,
    "start_time": "2024-10-02T13:42:27.201Z"
   },
   {
    "duration": 5,
    "start_time": "2024-10-02T13:42:38.034Z"
   },
   {
    "duration": 523,
    "start_time": "2024-10-02T13:42:38.509Z"
   },
   {
    "duration": 5,
    "start_time": "2024-10-02T13:42:56.443Z"
   },
   {
    "duration": 405,
    "start_time": "2024-10-02T13:42:56.947Z"
   },
   {
    "duration": 6,
    "start_time": "2024-10-02T13:43:04.860Z"
   },
   {
    "duration": 441,
    "start_time": "2024-10-02T13:43:05.300Z"
   },
   {
    "duration": 5,
    "start_time": "2024-10-02T13:43:15.403Z"
   },
   {
    "duration": 388,
    "start_time": "2024-10-02T13:43:15.867Z"
   },
   {
    "duration": 25,
    "start_time": "2024-10-02T13:46:51.473Z"
   },
   {
    "duration": 112,
    "start_time": "2024-10-02T13:48:08.744Z"
   },
   {
    "duration": 1471,
    "start_time": "2024-10-02T13:49:05.854Z"
   },
   {
    "duration": 51,
    "start_time": "2024-10-02T13:49:07.327Z"
   },
   {
    "duration": 6,
    "start_time": "2024-10-02T13:49:07.380Z"
   },
   {
    "duration": 10,
    "start_time": "2024-10-02T13:49:07.388Z"
   },
   {
    "duration": 9,
    "start_time": "2024-10-02T13:49:07.400Z"
   },
   {
    "duration": 21,
    "start_time": "2024-10-02T13:49:07.411Z"
   },
   {
    "duration": 48,
    "start_time": "2024-10-02T13:49:07.434Z"
   },
   {
    "duration": 21,
    "start_time": "2024-10-02T13:49:07.484Z"
   },
   {
    "duration": 435,
    "start_time": "2024-10-02T13:49:07.507Z"
   },
   {
    "duration": 7,
    "start_time": "2024-10-02T13:49:07.944Z"
   },
   {
    "duration": 1478,
    "start_time": "2024-10-02T13:50:00.142Z"
   },
   {
    "duration": 52,
    "start_time": "2024-10-02T13:50:01.622Z"
   },
   {
    "duration": 58,
    "start_time": "2024-10-02T13:50:01.675Z"
   },
   {
    "duration": 21,
    "start_time": "2024-10-02T13:50:01.735Z"
   },
   {
    "duration": 31,
    "start_time": "2024-10-02T13:50:01.759Z"
   },
   {
    "duration": 54,
    "start_time": "2024-10-02T13:50:01.791Z"
   },
   {
    "duration": 42,
    "start_time": "2024-10-02T13:50:01.847Z"
   },
   {
    "duration": 38,
    "start_time": "2024-10-02T13:50:01.891Z"
   },
   {
    "duration": 425,
    "start_time": "2024-10-02T13:50:01.931Z"
   },
   {
    "duration": 134,
    "start_time": "2024-10-02T13:50:02.358Z"
   },
   {
    "duration": 1504,
    "start_time": "2024-10-02T13:51:24.550Z"
   },
   {
    "duration": 53,
    "start_time": "2024-10-02T13:51:26.057Z"
   },
   {
    "duration": 5,
    "start_time": "2024-10-02T13:51:26.112Z"
   },
   {
    "duration": 20,
    "start_time": "2024-10-02T13:51:26.119Z"
   },
   {
    "duration": 26,
    "start_time": "2024-10-02T13:51:26.141Z"
   },
   {
    "duration": 10,
    "start_time": "2024-10-02T13:51:26.169Z"
   },
   {
    "duration": 12,
    "start_time": "2024-10-02T13:51:26.180Z"
   },
   {
    "duration": 430,
    "start_time": "2024-10-02T13:51:26.194Z"
   },
   {
    "duration": 7,
    "start_time": "2024-10-02T13:51:26.626Z"
   },
   {
    "duration": 58506,
    "start_time": "2024-10-02T13:56:44.415Z"
   },
   {
    "duration": 3325,
    "start_time": "2024-10-02T14:06:14.234Z"
   },
   {
    "duration": 1481,
    "start_time": "2024-10-02T14:10:45.224Z"
   },
   {
    "duration": 52,
    "start_time": "2024-10-02T14:10:46.707Z"
   },
   {
    "duration": 5,
    "start_time": "2024-10-02T14:10:46.760Z"
   },
   {
    "duration": 12,
    "start_time": "2024-10-02T14:10:46.767Z"
   },
   {
    "duration": 87,
    "start_time": "2024-10-02T14:10:46.781Z"
   },
   {
    "duration": 102,
    "start_time": "2024-10-02T14:10:46.869Z"
   },
   {
    "duration": 14,
    "start_time": "2024-10-02T14:10:46.973Z"
   },
   {
    "duration": 7,
    "start_time": "2024-10-02T14:10:46.989Z"
   },
   {
    "duration": 842,
    "start_time": "2024-10-02T14:10:46.998Z"
   },
   {
    "duration": 11,
    "start_time": "2024-10-02T14:10:47.841Z"
   },
   {
    "duration": 484,
    "start_time": "2024-10-02T14:10:47.853Z"
   },
   {
    "duration": 1194,
    "start_time": "2024-10-02T14:12:33.953Z"
   },
   {
    "duration": 1491,
    "start_time": "2024-10-02T14:13:38.660Z"
   },
   {
    "duration": 52,
    "start_time": "2024-10-02T14:13:40.154Z"
   },
   {
    "duration": 5,
    "start_time": "2024-10-02T14:13:40.208Z"
   },
   {
    "duration": 86,
    "start_time": "2024-10-02T14:13:40.215Z"
   },
   {
    "duration": 9,
    "start_time": "2024-10-02T14:13:40.303Z"
   },
   {
    "duration": 10,
    "start_time": "2024-10-02T14:13:40.313Z"
   },
   {
    "duration": 11,
    "start_time": "2024-10-02T14:13:40.325Z"
   },
   {
    "duration": 11,
    "start_time": "2024-10-02T14:13:40.338Z"
   },
   {
    "duration": 825,
    "start_time": "2024-10-02T14:13:40.350Z"
   },
   {
    "duration": 1283,
    "start_time": "2024-10-02T14:13:41.178Z"
   },
   {
    "duration": 0,
    "start_time": "2024-10-02T14:13:42.463Z"
   },
   {
    "duration": 1156,
    "start_time": "2024-10-02T14:15:41.659Z"
   },
   {
    "duration": 502,
    "start_time": "2024-10-02T14:15:58.623Z"
   },
   {
    "duration": 7,
    "start_time": "2024-10-02T14:20:59.839Z"
   },
   {
    "duration": 379,
    "start_time": "2024-10-02T14:21:02.662Z"
   },
   {
    "duration": 9,
    "start_time": "2024-10-02T14:21:49.858Z"
   },
   {
    "duration": 390,
    "start_time": "2024-10-02T14:21:50.764Z"
   },
   {
    "duration": 428,
    "start_time": "2024-10-02T14:22:05.352Z"
   },
   {
    "duration": 1571,
    "start_time": "2024-10-02T14:23:32.585Z"
   },
   {
    "duration": 52,
    "start_time": "2024-10-02T14:23:34.158Z"
   },
   {
    "duration": 5,
    "start_time": "2024-10-02T14:23:34.211Z"
   },
   {
    "duration": 8,
    "start_time": "2024-10-02T14:23:34.219Z"
   },
   {
    "duration": 12,
    "start_time": "2024-10-02T14:23:34.229Z"
   },
   {
    "duration": 64,
    "start_time": "2024-10-02T14:23:34.243Z"
   },
   {
    "duration": 15,
    "start_time": "2024-10-02T14:23:34.308Z"
   },
   {
    "duration": 9,
    "start_time": "2024-10-02T14:23:34.324Z"
   },
   {
    "duration": 901,
    "start_time": "2024-10-02T14:23:34.335Z"
   },
   {
    "duration": 7,
    "start_time": "2024-10-02T14:23:35.238Z"
   },
   {
    "duration": 41,
    "start_time": "2024-10-02T14:23:35.246Z"
   },
   {
    "duration": 556,
    "start_time": "2024-10-02T14:23:35.288Z"
   },
   {
    "duration": 420,
    "start_time": "2024-10-02T14:24:22.313Z"
   },
   {
    "duration": 7,
    "start_time": "2024-10-02T14:25:05.137Z"
   },
   {
    "duration": 7,
    "start_time": "2024-10-02T14:25:07.574Z"
   },
   {
    "duration": 412,
    "start_time": "2024-10-02T14:25:08.076Z"
   },
   {
    "duration": 441,
    "start_time": "2024-10-02T14:25:10.406Z"
   },
   {
    "duration": 1470,
    "start_time": "2024-10-02T14:25:21.250Z"
   },
   {
    "duration": 52,
    "start_time": "2024-10-02T14:25:22.723Z"
   },
   {
    "duration": 5,
    "start_time": "2024-10-02T14:25:22.777Z"
   },
   {
    "duration": 18,
    "start_time": "2024-10-02T14:25:22.784Z"
   },
   {
    "duration": 11,
    "start_time": "2024-10-02T14:25:22.804Z"
   },
   {
    "duration": 56,
    "start_time": "2024-10-02T14:25:22.817Z"
   },
   {
    "duration": 23,
    "start_time": "2024-10-02T14:25:22.875Z"
   },
   {
    "duration": 10,
    "start_time": "2024-10-02T14:25:22.900Z"
   },
   {
    "duration": 776,
    "start_time": "2024-10-02T14:25:22.911Z"
   },
   {
    "duration": 6,
    "start_time": "2024-10-02T14:25:23.690Z"
   },
   {
    "duration": 9,
    "start_time": "2024-10-02T14:25:23.698Z"
   },
   {
    "duration": 512,
    "start_time": "2024-10-02T14:25:23.708Z"
   },
   {
    "duration": 440,
    "start_time": "2024-10-02T14:25:24.222Z"
   },
   {
    "duration": 8,
    "start_time": "2024-10-02T14:30:24.902Z"
   },
   {
    "duration": 468,
    "start_time": "2024-10-02T14:30:29.705Z"
   },
   {
    "duration": 1661,
    "start_time": "2024-10-03T08:00:07.667Z"
   },
   {
    "duration": 190,
    "start_time": "2024-10-03T08:00:09.330Z"
   },
   {
    "duration": 5,
    "start_time": "2024-10-03T08:00:09.522Z"
   },
   {
    "duration": 9,
    "start_time": "2024-10-03T08:00:09.529Z"
   },
   {
    "duration": 9,
    "start_time": "2024-10-03T08:00:09.540Z"
   },
   {
    "duration": 11,
    "start_time": "2024-10-03T08:00:09.551Z"
   },
   {
    "duration": 20,
    "start_time": "2024-10-03T08:00:09.563Z"
   },
   {
    "duration": 48,
    "start_time": "2024-10-03T08:00:09.586Z"
   },
   {
    "duration": 958,
    "start_time": "2024-10-03T08:00:09.636Z"
   },
   {
    "duration": 6,
    "start_time": "2024-10-03T08:00:10.596Z"
   },
   {
    "duration": 7,
    "start_time": "2024-10-03T08:00:10.604Z"
   },
   {
    "duration": 493,
    "start_time": "2024-10-03T08:00:10.613Z"
   },
   {
    "duration": 462,
    "start_time": "2024-10-03T08:00:11.107Z"
   },
   {
    "duration": 969,
    "start_time": "2024-10-03T08:00:35.528Z"
   },
   {
    "duration": 9,
    "start_time": "2024-10-03T08:02:02.515Z"
   },
   {
    "duration": 1504,
    "start_time": "2024-10-03T08:09:30.028Z"
   },
   {
    "duration": 56,
    "start_time": "2024-10-03T08:09:31.534Z"
   },
   {
    "duration": 6,
    "start_time": "2024-10-03T08:09:31.591Z"
   },
   {
    "duration": 26,
    "start_time": "2024-10-03T08:09:31.599Z"
   },
   {
    "duration": 13,
    "start_time": "2024-10-03T08:09:31.627Z"
   },
   {
    "duration": 11,
    "start_time": "2024-10-03T08:09:31.642Z"
   },
   {
    "duration": 32,
    "start_time": "2024-10-03T08:09:31.654Z"
   },
   {
    "duration": 13,
    "start_time": "2024-10-03T08:09:31.687Z"
   },
   {
    "duration": 813,
    "start_time": "2024-10-03T08:09:31.701Z"
   },
   {
    "duration": 6,
    "start_time": "2024-10-03T08:09:32.517Z"
   },
   {
    "duration": 511,
    "start_time": "2024-10-03T08:09:32.525Z"
   },
   {
    "duration": 7,
    "start_time": "2024-10-03T08:09:33.038Z"
   },
   {
    "duration": 453,
    "start_time": "2024-10-03T08:09:33.047Z"
   },
   {
    "duration": 8,
    "start_time": "2024-10-03T08:09:33.501Z"
   },
   {
    "duration": 5,
    "start_time": "2024-10-03T08:10:34.995Z"
   },
   {
    "duration": 8,
    "start_time": "2024-10-03T08:10:41.368Z"
   },
   {
    "duration": 1554,
    "start_time": "2024-10-03T08:10:51.796Z"
   },
   {
    "duration": 56,
    "start_time": "2024-10-03T08:10:53.352Z"
   },
   {
    "duration": 6,
    "start_time": "2024-10-03T08:10:53.410Z"
   },
   {
    "duration": 17,
    "start_time": "2024-10-03T08:10:53.418Z"
   },
   {
    "duration": 9,
    "start_time": "2024-10-03T08:10:53.437Z"
   },
   {
    "duration": 24,
    "start_time": "2024-10-03T08:10:53.447Z"
   },
   {
    "duration": 57,
    "start_time": "2024-10-03T08:10:53.473Z"
   },
   {
    "duration": 8,
    "start_time": "2024-10-03T08:10:53.532Z"
   },
   {
    "duration": 817,
    "start_time": "2024-10-03T08:10:53.541Z"
   },
   {
    "duration": 5,
    "start_time": "2024-10-03T08:10:54.361Z"
   },
   {
    "duration": 466,
    "start_time": "2024-10-03T08:10:54.368Z"
   },
   {
    "duration": 7,
    "start_time": "2024-10-03T08:10:54.836Z"
   },
   {
    "duration": 424,
    "start_time": "2024-10-03T08:10:54.845Z"
   },
   {
    "duration": 8,
    "start_time": "2024-10-03T08:10:55.270Z"
   },
   {
    "duration": 8,
    "start_time": "2024-10-03T08:11:24.866Z"
   },
   {
    "duration": 1498,
    "start_time": "2024-10-03T08:12:11.322Z"
   },
   {
    "duration": 55,
    "start_time": "2024-10-03T08:12:12.822Z"
   },
   {
    "duration": 7,
    "start_time": "2024-10-03T08:12:12.879Z"
   },
   {
    "duration": 13,
    "start_time": "2024-10-03T08:12:12.887Z"
   },
   {
    "duration": 10,
    "start_time": "2024-10-03T08:12:12.902Z"
   },
   {
    "duration": 10,
    "start_time": "2024-10-03T08:12:12.914Z"
   },
   {
    "duration": 13,
    "start_time": "2024-10-03T08:12:12.926Z"
   },
   {
    "duration": 8,
    "start_time": "2024-10-03T08:12:12.940Z"
   },
   {
    "duration": 848,
    "start_time": "2024-10-03T08:12:12.950Z"
   },
   {
    "duration": 6,
    "start_time": "2024-10-03T08:12:13.800Z"
   },
   {
    "duration": 493,
    "start_time": "2024-10-03T08:12:13.807Z"
   },
   {
    "duration": 7,
    "start_time": "2024-10-03T08:12:14.302Z"
   },
   {
    "duration": 454,
    "start_time": "2024-10-03T08:12:14.311Z"
   },
   {
    "duration": 8,
    "start_time": "2024-10-03T08:12:14.768Z"
   },
   {
    "duration": 1512,
    "start_time": "2024-10-03T08:12:46.213Z"
   },
   {
    "duration": 55,
    "start_time": "2024-10-03T08:12:47.727Z"
   },
   {
    "duration": 6,
    "start_time": "2024-10-03T08:12:47.783Z"
   },
   {
    "duration": 10,
    "start_time": "2024-10-03T08:12:47.790Z"
   },
   {
    "duration": 10,
    "start_time": "2024-10-03T08:12:47.802Z"
   },
   {
    "duration": 35,
    "start_time": "2024-10-03T08:12:47.813Z"
   },
   {
    "duration": 26,
    "start_time": "2024-10-03T08:12:47.849Z"
   },
   {
    "duration": 7,
    "start_time": "2024-10-03T08:12:47.877Z"
   },
   {
    "duration": 824,
    "start_time": "2024-10-03T08:12:47.886Z"
   },
   {
    "duration": 6,
    "start_time": "2024-10-03T08:12:48.712Z"
   },
   {
    "duration": 468,
    "start_time": "2024-10-03T08:12:48.720Z"
   },
   {
    "duration": 7,
    "start_time": "2024-10-03T08:12:49.190Z"
   },
   {
    "duration": 500,
    "start_time": "2024-10-03T08:12:49.199Z"
   },
   {
    "duration": 8,
    "start_time": "2024-10-03T08:12:49.701Z"
   },
   {
    "duration": 6,
    "start_time": "2024-10-03T08:22:00.130Z"
   },
   {
    "duration": 122,
    "start_time": "2024-10-03T08:32:46.798Z"
   },
   {
    "duration": 4,
    "start_time": "2024-10-03T08:33:13.898Z"
   },
   {
    "duration": 26,
    "start_time": "2024-10-03T08:33:14.388Z"
   },
   {
    "duration": 1750,
    "start_time": "2024-10-03T14:13:27.903Z"
   },
   {
    "duration": 118,
    "start_time": "2024-10-03T14:13:29.655Z"
   },
   {
    "duration": 6,
    "start_time": "2024-10-03T14:13:29.775Z"
   },
   {
    "duration": 14,
    "start_time": "2024-10-03T14:13:29.783Z"
   },
   {
    "duration": 10,
    "start_time": "2024-10-03T14:13:29.799Z"
   },
   {
    "duration": 12,
    "start_time": "2024-10-03T14:13:29.811Z"
   },
   {
    "duration": 30,
    "start_time": "2024-10-03T14:13:29.825Z"
   },
   {
    "duration": 8,
    "start_time": "2024-10-03T14:13:29.857Z"
   },
   {
    "duration": 918,
    "start_time": "2024-10-03T14:13:29.867Z"
   },
   {
    "duration": 8,
    "start_time": "2024-10-03T14:13:30.788Z"
   },
   {
    "duration": 465,
    "start_time": "2024-10-03T14:13:30.798Z"
   },
   {
    "duration": 9,
    "start_time": "2024-10-03T14:13:31.265Z"
   },
   {
    "duration": 454,
    "start_time": "2024-10-03T14:13:31.275Z"
   },
   {
    "duration": 17,
    "start_time": "2024-10-03T14:13:31.731Z"
   },
   {
    "duration": 6,
    "start_time": "2024-10-03T14:13:31.750Z"
   },
   {
    "duration": 47,
    "start_time": "2024-10-03T14:13:31.758Z"
   },
   {
    "duration": 12,
    "start_time": "2024-10-03T14:13:31.806Z"
   },
   {
    "duration": 5,
    "start_time": "2024-10-03T14:32:00.645Z"
   },
   {
    "duration": 137,
    "start_time": "2024-10-03T14:32:01.257Z"
   },
   {
    "duration": 5,
    "start_time": "2024-10-03T14:32:45.401Z"
   },
   {
    "duration": 27,
    "start_time": "2024-10-03T14:32:45.812Z"
   },
   {
    "duration": 6,
    "start_time": "2024-10-03T14:33:49.701Z"
   },
   {
    "duration": 24,
    "start_time": "2024-10-03T14:33:50.059Z"
   },
   {
    "duration": 23,
    "start_time": "2024-10-03T14:34:09.509Z"
   },
   {
    "duration": 22,
    "start_time": "2024-10-03T14:34:20.711Z"
   },
   {
    "duration": 20,
    "start_time": "2024-10-03T14:34:35.576Z"
   },
   {
    "duration": 20,
    "start_time": "2024-10-03T14:34:42.360Z"
   },
   {
    "duration": 4,
    "start_time": "2024-10-03T14:48:43.350Z"
   },
   {
    "duration": 65,
    "start_time": "2024-10-03T15:23:36.043Z"
   },
   {
    "duration": 77,
    "start_time": "2024-10-03T15:50:30.837Z"
   },
   {
    "duration": 30,
    "start_time": "2024-10-03T15:51:17.549Z"
   },
   {
    "duration": 23,
    "start_time": "2024-10-03T15:51:31.026Z"
   },
   {
    "duration": 12,
    "start_time": "2024-10-03T16:04:01.328Z"
   },
   {
    "duration": 26,
    "start_time": "2024-10-03T16:05:16.645Z"
   },
   {
    "duration": 26,
    "start_time": "2024-10-03T16:07:46.796Z"
   },
   {
    "duration": 25,
    "start_time": "2024-10-03T16:10:06.535Z"
   },
   {
    "duration": 18,
    "start_time": "2024-10-03T16:12:41.782Z"
   },
   {
    "duration": 51177,
    "start_time": "2024-10-03T16:12:44.149Z"
   },
   {
    "duration": 3,
    "start_time": "2024-10-03T16:16:38.779Z"
   },
   {
    "duration": 5,
    "start_time": "2024-10-03T16:16:47.509Z"
   },
   {
    "duration": 3,
    "start_time": "2024-10-03T16:17:28.270Z"
   },
   {
    "duration": 5,
    "start_time": "2024-10-03T16:19:05.370Z"
   },
   {
    "duration": 4,
    "start_time": "2024-10-03T16:19:06.268Z"
   },
   {
    "duration": 5,
    "start_time": "2024-10-03T16:24:10.432Z"
   },
   {
    "duration": 11,
    "start_time": "2024-10-03T16:25:23.711Z"
   },
   {
    "duration": 11,
    "start_time": "2024-10-03T16:25:33.492Z"
   },
   {
    "duration": 5,
    "start_time": "2024-10-03T16:25:43.596Z"
   },
   {
    "duration": 6,
    "start_time": "2024-10-03T16:26:15.503Z"
   },
   {
    "duration": 5,
    "start_time": "2024-10-03T16:26:16.047Z"
   },
   {
    "duration": 23,
    "start_time": "2024-10-03T16:26:46.398Z"
   },
   {
    "duration": 14,
    "start_time": "2024-10-03T16:26:48.543Z"
   },
   {
    "duration": 50577,
    "start_time": "2024-10-03T16:26:51.347Z"
   },
   {
    "duration": 5,
    "start_time": "2024-10-03T16:27:41.926Z"
   },
   {
    "duration": 6,
    "start_time": "2024-10-03T16:27:41.933Z"
   },
   {
    "duration": 5,
    "start_time": "2024-10-03T16:27:41.942Z"
   },
   {
    "duration": 8,
    "start_time": "2024-10-03T16:27:41.948Z"
   },
   {
    "duration": 22,
    "start_time": "2024-10-03T16:28:36.251Z"
   },
   {
    "duration": 12,
    "start_time": "2024-10-03T16:28:36.823Z"
   },
   {
    "duration": 50396,
    "start_time": "2024-10-03T16:28:37.333Z"
   },
   {
    "duration": 5,
    "start_time": "2024-10-03T16:29:27.732Z"
   },
   {
    "duration": 73,
    "start_time": "2024-10-03T16:29:27.739Z"
   },
   {
    "duration": 8,
    "start_time": "2024-10-03T16:29:27.814Z"
   },
   {
    "duration": 24,
    "start_time": "2024-10-03T16:29:27.824Z"
   },
   {
    "duration": 35,
    "start_time": "2024-10-03T16:29:51.285Z"
   },
   {
    "duration": 12,
    "start_time": "2024-10-03T16:29:51.942Z"
   },
   {
    "duration": 81020,
    "start_time": "2024-10-03T16:29:52.884Z"
   },
   {
    "duration": 6,
    "start_time": "2024-10-03T16:31:13.906Z"
   },
   {
    "duration": 6,
    "start_time": "2024-10-03T16:31:13.914Z"
   },
   {
    "duration": 7,
    "start_time": "2024-10-03T16:31:13.923Z"
   },
   {
    "duration": 5,
    "start_time": "2024-10-03T16:31:13.931Z"
   },
   {
    "duration": 47,
    "start_time": "2024-10-03T16:31:38.177Z"
   },
   {
    "duration": 14,
    "start_time": "2024-10-03T16:31:38.986Z"
   },
   {
    "duration": 125499,
    "start_time": "2024-10-03T16:31:39.517Z"
   },
   {
    "duration": 5,
    "start_time": "2024-10-03T16:33:45.019Z"
   },
   {
    "duration": 76,
    "start_time": "2024-10-03T16:33:45.026Z"
   },
   {
    "duration": 42,
    "start_time": "2024-10-03T16:33:45.105Z"
   },
   {
    "duration": 27,
    "start_time": "2024-10-03T16:33:45.149Z"
   },
   {
    "duration": 43,
    "start_time": "2024-10-03T16:34:05.529Z"
   },
   {
    "duration": 14,
    "start_time": "2024-10-03T16:34:06.353Z"
   },
   {
    "duration": 125541,
    "start_time": "2024-10-03T16:34:06.932Z"
   },
   {
    "duration": 4,
    "start_time": "2024-10-03T16:36:12.475Z"
   },
   {
    "duration": 12,
    "start_time": "2024-10-03T16:36:12.481Z"
   },
   {
    "duration": 33,
    "start_time": "2024-10-03T16:36:12.495Z"
   },
   {
    "duration": 39,
    "start_time": "2024-10-03T16:36:12.530Z"
   },
   {
    "duration": 50,
    "start_time": "2024-10-03T16:36:38.272Z"
   },
   {
    "duration": 13,
    "start_time": "2024-10-03T16:36:38.847Z"
   },
   {
    "duration": 169752,
    "start_time": "2024-10-03T16:36:39.364Z"
   },
   {
    "duration": 5,
    "start_time": "2024-10-03T16:39:29.118Z"
   },
   {
    "duration": 13,
    "start_time": "2024-10-03T16:39:29.124Z"
   },
   {
    "duration": 7,
    "start_time": "2024-10-03T16:39:29.139Z"
   },
   {
    "duration": 9,
    "start_time": "2024-10-03T16:39:29.147Z"
   },
   {
    "duration": 4,
    "start_time": "2024-10-03T16:40:51.897Z"
   },
   {
    "duration": 7,
    "start_time": "2024-10-03T16:41:33.813Z"
   },
   {
    "duration": 17,
    "start_time": "2024-10-03T17:52:58.420Z"
   },
   {
    "duration": 7,
    "start_time": "2024-10-03T17:53:42.016Z"
   },
   {
    "duration": 4,
    "start_time": "2024-10-03T17:55:34.875Z"
   },
   {
    "duration": 7,
    "start_time": "2024-10-03T18:03:54.937Z"
   },
   {
    "duration": 6,
    "start_time": "2024-10-03T18:07:20.006Z"
   },
   {
    "duration": 1785,
    "start_time": "2024-10-04T08:32:14.870Z"
   },
   {
    "duration": 103,
    "start_time": "2024-10-04T08:32:16.657Z"
   },
   {
    "duration": 6,
    "start_time": "2024-10-04T08:32:16.761Z"
   },
   {
    "duration": 27,
    "start_time": "2024-10-04T08:32:16.769Z"
   },
   {
    "duration": 10,
    "start_time": "2024-10-04T08:32:16.798Z"
   },
   {
    "duration": 24,
    "start_time": "2024-10-04T08:32:16.810Z"
   },
   {
    "duration": 26,
    "start_time": "2024-10-04T08:32:16.836Z"
   },
   {
    "duration": 15,
    "start_time": "2024-10-04T08:32:16.864Z"
   },
   {
    "duration": 936,
    "start_time": "2024-10-04T08:32:16.881Z"
   },
   {
    "duration": 8,
    "start_time": "2024-10-04T08:32:17.820Z"
   },
   {
    "duration": 425,
    "start_time": "2024-10-04T08:32:17.830Z"
   },
   {
    "duration": 6,
    "start_time": "2024-10-04T08:32:18.257Z"
   },
   {
    "duration": 429,
    "start_time": "2024-10-04T08:32:18.265Z"
   },
   {
    "duration": 4,
    "start_time": "2024-10-04T08:32:18.696Z"
   },
   {
    "duration": 69,
    "start_time": "2024-10-04T08:32:18.702Z"
   },
   {
    "duration": 15,
    "start_time": "2024-10-04T08:32:18.773Z"
   },
   {
    "duration": 166479,
    "start_time": "2024-10-04T08:32:18.789Z"
   },
   {
    "duration": 4,
    "start_time": "2024-10-04T08:35:05.270Z"
   },
   {
    "duration": 58,
    "start_time": "2024-10-04T08:35:05.275Z"
   },
   {
    "duration": 19,
    "start_time": "2024-10-04T08:35:05.335Z"
   },
   {
    "duration": 7,
    "start_time": "2024-10-04T08:35:05.355Z"
   },
   {
    "duration": 17,
    "start_time": "2024-10-04T08:35:05.363Z"
   },
   {
    "duration": 20,
    "start_time": "2024-10-04T08:35:05.382Z"
   },
   {
    "duration": 305,
    "start_time": "2024-10-04T08:41:02.302Z"
   },
   {
    "duration": 150,
    "start_time": "2024-10-04T08:41:15.776Z"
   },
   {
    "duration": 146,
    "start_time": "2024-10-04T08:44:12.512Z"
   },
   {
    "duration": 192,
    "start_time": "2024-10-04T08:44:57.306Z"
   },
   {
    "duration": 179,
    "start_time": "2024-10-04T08:45:10.386Z"
   },
   {
    "duration": 191,
    "start_time": "2024-10-04T08:48:02.280Z"
   },
   {
    "duration": 1616,
    "start_time": "2024-10-04T09:21:36.981Z"
   },
   {
    "duration": 56,
    "start_time": "2024-10-04T09:21:38.599Z"
   },
   {
    "duration": 6,
    "start_time": "2024-10-04T09:21:38.656Z"
   },
   {
    "duration": 32,
    "start_time": "2024-10-04T09:21:38.664Z"
   },
   {
    "duration": 16,
    "start_time": "2024-10-04T09:21:38.698Z"
   },
   {
    "duration": 19,
    "start_time": "2024-10-04T09:21:38.716Z"
   },
   {
    "duration": 30,
    "start_time": "2024-10-04T09:21:38.737Z"
   },
   {
    "duration": 14,
    "start_time": "2024-10-04T09:21:38.769Z"
   },
   {
    "duration": 988,
    "start_time": "2024-10-04T09:21:38.785Z"
   },
   {
    "duration": 233,
    "start_time": "2024-10-04T09:21:39.777Z"
   },
   {
    "duration": 6,
    "start_time": "2024-10-04T09:21:40.012Z"
   },
   {
    "duration": 438,
    "start_time": "2024-10-04T09:21:40.019Z"
   },
   {
    "duration": 8,
    "start_time": "2024-10-04T09:21:40.459Z"
   },
   {
    "duration": 500,
    "start_time": "2024-10-04T09:21:40.469Z"
   },
   {
    "duration": 5,
    "start_time": "2024-10-04T09:21:40.971Z"
   },
   {
    "duration": 78,
    "start_time": "2024-10-04T09:21:40.978Z"
   },
   {
    "duration": 24,
    "start_time": "2024-10-04T09:21:41.058Z"
   },
   {
    "duration": 173718,
    "start_time": "2024-10-04T09:21:41.084Z"
   },
   {
    "duration": 5,
    "start_time": "2024-10-04T09:24:34.804Z"
   },
   {
    "duration": 13,
    "start_time": "2024-10-04T09:24:34.810Z"
   },
   {
    "duration": 6,
    "start_time": "2024-10-04T09:24:34.824Z"
   },
   {
    "duration": 35,
    "start_time": "2024-10-04T09:24:34.832Z"
   },
   {
    "duration": 85,
    "start_time": "2024-10-04T09:24:34.869Z"
   },
   {
    "duration": 9,
    "start_time": "2024-10-04T09:24:34.956Z"
   },
   {
    "duration": 50,
    "start_time": "2024-10-04T12:37:09.274Z"
   },
   {
    "duration": 1750,
    "start_time": "2024-10-04T12:37:32.131Z"
   },
   {
    "duration": 188,
    "start_time": "2024-10-04T12:37:33.883Z"
   },
   {
    "duration": 5,
    "start_time": "2024-10-04T12:37:34.072Z"
   },
   {
    "duration": 14,
    "start_time": "2024-10-04T12:37:34.079Z"
   },
   {
    "duration": 9,
    "start_time": "2024-10-04T12:37:34.095Z"
   },
   {
    "duration": 15,
    "start_time": "2024-10-04T12:37:34.106Z"
   },
   {
    "duration": 12,
    "start_time": "2024-10-04T12:37:34.123Z"
   },
   {
    "duration": 7,
    "start_time": "2024-10-04T12:37:34.137Z"
   },
   {
    "duration": 896,
    "start_time": "2024-10-04T12:37:34.146Z"
   },
   {
    "duration": 190,
    "start_time": "2024-10-04T12:37:35.045Z"
   },
   {
    "duration": 5,
    "start_time": "2024-10-04T12:37:35.237Z"
   },
   {
    "duration": 390,
    "start_time": "2024-10-04T12:37:35.243Z"
   },
   {
    "duration": 7,
    "start_time": "2024-10-04T12:37:35.635Z"
   },
   {
    "duration": 437,
    "start_time": "2024-10-04T12:37:35.644Z"
   },
   {
    "duration": 5,
    "start_time": "2024-10-04T12:37:36.084Z"
   },
   {
    "duration": 75,
    "start_time": "2024-10-04T12:37:36.091Z"
   },
   {
    "duration": 17,
    "start_time": "2024-10-04T12:37:36.168Z"
   },
   {
    "duration": 164487,
    "start_time": "2024-10-04T12:37:36.186Z"
   },
   {
    "duration": 4,
    "start_time": "2024-10-04T12:40:20.675Z"
   },
   {
    "duration": 18,
    "start_time": "2024-10-04T12:40:20.681Z"
   },
   {
    "duration": 13,
    "start_time": "2024-10-04T12:40:20.701Z"
   },
   {
    "duration": 5,
    "start_time": "2024-10-04T12:40:20.716Z"
   },
   {
    "duration": 15,
    "start_time": "2024-10-04T12:40:20.723Z"
   },
   {
    "duration": 8,
    "start_time": "2024-10-04T12:40:20.740Z"
   },
   {
    "duration": 53,
    "start_time": "2024-10-04T13:04:00.511Z"
   },
   {
    "duration": 851,
    "start_time": "2024-10-04T13:04:07.105Z"
   },
   {
    "duration": 25,
    "start_time": "2024-10-04T13:04:34.786Z"
   },
   {
    "duration": 23,
    "start_time": "2024-10-04T13:08:33.662Z"
   },
   {
    "duration": 24,
    "start_time": "2024-10-04T13:10:30.360Z"
   },
   {
    "duration": 1614,
    "start_time": "2024-10-04T13:12:38.817Z"
   },
   {
    "duration": 58,
    "start_time": "2024-10-04T13:12:40.433Z"
   },
   {
    "duration": 6,
    "start_time": "2024-10-04T13:12:40.493Z"
   },
   {
    "duration": 11,
    "start_time": "2024-10-04T13:12:40.500Z"
   },
   {
    "duration": 9,
    "start_time": "2024-10-04T13:12:40.514Z"
   },
   {
    "duration": 3,
    "start_time": "2024-10-04T13:12:40.524Z"
   },
   {
    "duration": 15,
    "start_time": "2024-10-04T13:12:40.529Z"
   },
   {
    "duration": 14,
    "start_time": "2024-10-04T13:12:40.546Z"
   },
   {
    "duration": 7,
    "start_time": "2024-10-04T13:12:40.562Z"
   },
   {
    "duration": 900,
    "start_time": "2024-10-04T13:12:40.570Z"
   },
   {
    "duration": 189,
    "start_time": "2024-10-04T13:12:41.472Z"
   },
   {
    "duration": 5,
    "start_time": "2024-10-04T13:12:41.663Z"
   },
   {
    "duration": 390,
    "start_time": "2024-10-04T13:12:41.670Z"
   },
   {
    "duration": 7,
    "start_time": "2024-10-04T13:12:42.063Z"
   },
   {
    "duration": 480,
    "start_time": "2024-10-04T13:12:42.072Z"
   },
   {
    "duration": 196,
    "start_time": "2024-10-04T13:12:42.553Z"
   },
   {
    "duration": 202,
    "start_time": "2024-10-04T13:12:42.751Z"
   },
   {
    "duration": 5,
    "start_time": "2024-10-04T13:12:42.954Z"
   },
   {
    "duration": 75,
    "start_time": "2024-10-04T13:12:42.961Z"
   },
   {
    "duration": 17,
    "start_time": "2024-10-04T13:12:43.038Z"
   },
   {
    "duration": 165503,
    "start_time": "2024-10-04T13:12:43.057Z"
   },
   {
    "duration": 4,
    "start_time": "2024-10-04T13:15:28.562Z"
   },
   {
    "duration": 5,
    "start_time": "2024-10-04T13:15:28.567Z"
   },
   {
    "duration": 13,
    "start_time": "2024-10-04T13:15:28.573Z"
   },
   {
    "duration": 5,
    "start_time": "2024-10-04T13:15:28.588Z"
   },
   {
    "duration": 12,
    "start_time": "2024-10-04T13:15:28.594Z"
   },
   {
    "duration": 5,
    "start_time": "2024-10-04T13:15:28.608Z"
   },
   {
    "duration": 135,
    "start_time": "2024-10-04T13:16:20.944Z"
   },
   {
    "duration": 28,
    "start_time": "2024-10-04T13:41:44.493Z"
   },
   {
    "duration": 1510,
    "start_time": "2024-10-04T13:42:04.671Z"
   },
   {
    "duration": 58,
    "start_time": "2024-10-04T13:42:06.183Z"
   },
   {
    "duration": 5,
    "start_time": "2024-10-04T13:42:06.243Z"
   },
   {
    "duration": 16,
    "start_time": "2024-10-04T13:42:06.250Z"
   },
   {
    "duration": 9,
    "start_time": "2024-10-04T13:42:06.267Z"
   },
   {
    "duration": 5,
    "start_time": "2024-10-04T13:42:06.277Z"
   },
   {
    "duration": 21,
    "start_time": "2024-10-04T13:42:06.283Z"
   },
   {
    "duration": 22,
    "start_time": "2024-10-04T13:42:06.306Z"
   },
   {
    "duration": 8,
    "start_time": "2024-10-04T13:42:06.330Z"
   },
   {
    "duration": 861,
    "start_time": "2024-10-04T13:42:06.341Z"
   },
   {
    "duration": 186,
    "start_time": "2024-10-04T13:42:07.203Z"
   },
   {
    "duration": 5,
    "start_time": "2024-10-04T13:42:07.391Z"
   },
   {
    "duration": 416,
    "start_time": "2024-10-04T13:42:07.397Z"
   },
   {
    "duration": 11,
    "start_time": "2024-10-04T13:42:07.814Z"
   },
   {
    "duration": 437,
    "start_time": "2024-10-04T13:42:07.827Z"
   },
   {
    "duration": 185,
    "start_time": "2024-10-04T13:42:08.265Z"
   },
   {
    "duration": 4,
    "start_time": "2024-10-04T13:42:08.452Z"
   },
   {
    "duration": 73,
    "start_time": "2024-10-04T13:42:08.457Z"
   },
   {
    "duration": 16,
    "start_time": "2024-10-04T13:42:08.532Z"
   },
   {
    "duration": 165298,
    "start_time": "2024-10-04T13:42:08.550Z"
   },
   {
    "duration": 4,
    "start_time": "2024-10-04T13:44:53.849Z"
   },
   {
    "duration": 5,
    "start_time": "2024-10-04T13:44:53.855Z"
   },
   {
    "duration": 11,
    "start_time": "2024-10-04T13:44:53.861Z"
   },
   {
    "duration": 7,
    "start_time": "2024-10-04T13:44:53.873Z"
   },
   {
    "duration": 25,
    "start_time": "2024-10-04T13:44:53.881Z"
   },
   {
    "duration": 42,
    "start_time": "2024-10-04T13:44:53.908Z"
   },
   {
    "duration": 1647,
    "start_time": "2024-10-04T13:52:58.388Z"
   },
   {
    "duration": 1716,
    "start_time": "2024-10-04T13:53:21.918Z"
   },
   {
    "duration": 3359,
    "start_time": "2024-10-04T14:09:02.483Z"
   },
   {
    "duration": 1633,
    "start_time": "2024-10-04T14:09:35.102Z"
   },
   {
    "duration": 1744,
    "start_time": "2024-10-04T14:12:47.283Z"
   },
   {
    "duration": 1520,
    "start_time": "2024-10-04T14:12:57.717Z"
   },
   {
    "duration": 54,
    "start_time": "2024-10-04T14:39:08.047Z"
   },
   {
    "duration": 1538,
    "start_time": "2024-10-04T14:45:56.243Z"
   },
   {
    "duration": 62,
    "start_time": "2024-10-04T14:45:57.783Z"
   },
   {
    "duration": 7,
    "start_time": "2024-10-04T14:45:57.847Z"
   },
   {
    "duration": 11,
    "start_time": "2024-10-04T14:45:57.857Z"
   },
   {
    "duration": 12,
    "start_time": "2024-10-04T14:45:57.870Z"
   },
   {
    "duration": 4,
    "start_time": "2024-10-04T14:45:57.884Z"
   },
   {
    "duration": 39,
    "start_time": "2024-10-04T14:45:57.889Z"
   },
   {
    "duration": 87,
    "start_time": "2024-10-04T14:45:57.929Z"
   },
   {
    "duration": 8,
    "start_time": "2024-10-04T14:45:58.018Z"
   },
   {
    "duration": 877,
    "start_time": "2024-10-04T14:45:58.029Z"
   },
   {
    "duration": 197,
    "start_time": "2024-10-04T14:45:58.908Z"
   },
   {
    "duration": 5,
    "start_time": "2024-10-04T14:45:59.107Z"
   },
   {
    "duration": 411,
    "start_time": "2024-10-04T14:45:59.114Z"
   },
   {
    "duration": 8,
    "start_time": "2024-10-04T14:45:59.527Z"
   },
   {
    "duration": 442,
    "start_time": "2024-10-04T14:45:59.536Z"
   },
   {
    "duration": 202,
    "start_time": "2024-10-04T14:45:59.980Z"
   },
   {
    "duration": 3046,
    "start_time": "2024-10-04T14:46:00.185Z"
   },
   {
    "duration": 92,
    "start_time": "2024-10-04T14:46:03.234Z"
   },
   {
    "duration": 156,
    "start_time": "2024-10-04T14:46:03.329Z"
   },
   {
    "duration": 11,
    "start_time": "2024-10-04T14:46:03.486Z"
   },
   {
    "duration": 374,
    "start_time": "2024-10-04T14:46:03.498Z"
   },
   {
    "duration": 0,
    "start_time": "2024-10-04T14:46:03.874Z"
   },
   {
    "duration": 0,
    "start_time": "2024-10-04T14:46:03.876Z"
   },
   {
    "duration": 0,
    "start_time": "2024-10-04T14:46:03.877Z"
   },
   {
    "duration": 0,
    "start_time": "2024-10-04T14:46:03.879Z"
   },
   {
    "duration": 0,
    "start_time": "2024-10-04T14:46:03.880Z"
   },
   {
    "duration": 0,
    "start_time": "2024-10-04T14:46:03.882Z"
   },
   {
    "duration": 1509,
    "start_time": "2024-10-04T14:47:52.167Z"
   },
   {
    "duration": 57,
    "start_time": "2024-10-04T14:47:53.678Z"
   },
   {
    "duration": 6,
    "start_time": "2024-10-04T14:47:53.736Z"
   },
   {
    "duration": 68,
    "start_time": "2024-10-04T14:47:53.743Z"
   },
   {
    "duration": 9,
    "start_time": "2024-10-04T14:47:53.813Z"
   },
   {
    "duration": 8,
    "start_time": "2024-10-04T14:47:53.824Z"
   },
   {
    "duration": 13,
    "start_time": "2024-10-04T14:47:53.834Z"
   },
   {
    "duration": 13,
    "start_time": "2024-10-04T14:47:53.849Z"
   },
   {
    "duration": 9,
    "start_time": "2024-10-04T14:47:53.864Z"
   },
   {
    "duration": 863,
    "start_time": "2024-10-04T14:47:53.875Z"
   },
   {
    "duration": 189,
    "start_time": "2024-10-04T14:47:54.740Z"
   },
   {
    "duration": 5,
    "start_time": "2024-10-04T14:47:54.931Z"
   },
   {
    "duration": 401,
    "start_time": "2024-10-04T14:47:54.937Z"
   },
   {
    "duration": 7,
    "start_time": "2024-10-04T14:47:55.340Z"
   },
   {
    "duration": 410,
    "start_time": "2024-10-04T14:47:55.349Z"
   },
   {
    "duration": 192,
    "start_time": "2024-10-04T14:47:55.760Z"
   },
   {
    "duration": 1982,
    "start_time": "2024-10-04T14:47:55.953Z"
   },
   {
    "duration": 6,
    "start_time": "2024-10-04T14:47:58.027Z"
   },
   {
    "duration": 121,
    "start_time": "2024-10-04T14:47:58.035Z"
   },
   {
    "duration": 13,
    "start_time": "2024-10-04T14:47:58.157Z"
   },
   {
    "duration": 165468,
    "start_time": "2024-10-04T14:47:58.172Z"
   },
   {
    "duration": 4,
    "start_time": "2024-10-04T14:50:43.642Z"
   },
   {
    "duration": 9,
    "start_time": "2024-10-04T14:50:43.648Z"
   },
   {
    "duration": 7,
    "start_time": "2024-10-04T14:50:43.658Z"
   },
   {
    "duration": 5,
    "start_time": "2024-10-04T14:50:43.667Z"
   },
   {
    "duration": 6,
    "start_time": "2024-10-04T14:50:43.673Z"
   },
   {
    "duration": 7,
    "start_time": "2024-10-04T14:50:43.680Z"
   },
   {
    "duration": 1494,
    "start_time": "2024-10-04T14:51:20.667Z"
   },
   {
    "duration": 57,
    "start_time": "2024-10-04T14:51:22.163Z"
   },
   {
    "duration": 5,
    "start_time": "2024-10-04T14:51:22.222Z"
   },
   {
    "duration": 9,
    "start_time": "2024-10-04T14:51:22.228Z"
   },
   {
    "duration": 9,
    "start_time": "2024-10-04T14:51:22.239Z"
   },
   {
    "duration": 86,
    "start_time": "2024-10-04T14:51:22.249Z"
   },
   {
    "duration": 11,
    "start_time": "2024-10-04T14:51:22.337Z"
   },
   {
    "duration": 12,
    "start_time": "2024-10-04T14:51:22.350Z"
   },
   {
    "duration": 8,
    "start_time": "2024-10-04T14:51:22.364Z"
   },
   {
    "duration": 864,
    "start_time": "2024-10-04T14:51:22.374Z"
   },
   {
    "duration": 186,
    "start_time": "2024-10-04T14:51:23.240Z"
   },
   {
    "duration": 5,
    "start_time": "2024-10-04T14:51:23.427Z"
   },
   {
    "duration": 394,
    "start_time": "2024-10-04T14:51:23.434Z"
   },
   {
    "duration": 6,
    "start_time": "2024-10-04T14:51:23.831Z"
   },
   {
    "duration": 422,
    "start_time": "2024-10-04T14:51:23.839Z"
   },
   {
    "duration": 192,
    "start_time": "2024-10-04T14:51:24.263Z"
   },
   {
    "duration": 2076,
    "start_time": "2024-10-04T14:51:24.456Z"
   },
   {
    "duration": 7,
    "start_time": "2024-10-04T14:51:26.625Z"
   },
   {
    "duration": 104,
    "start_time": "2024-10-04T14:51:26.635Z"
   },
   {
    "duration": 11,
    "start_time": "2024-10-04T14:51:26.741Z"
   },
   {
    "duration": 32638,
    "start_time": "2024-10-04T14:51:26.754Z"
   },
   {
    "duration": 5,
    "start_time": "2024-10-04T14:51:59.394Z"
   },
   {
    "duration": 5,
    "start_time": "2024-10-04T14:51:59.400Z"
   },
   {
    "duration": 5,
    "start_time": "2024-10-04T14:51:59.406Z"
   },
   {
    "duration": 5,
    "start_time": "2024-10-04T14:51:59.413Z"
   },
   {
    "duration": 6,
    "start_time": "2024-10-04T14:51:59.420Z"
   },
   {
    "duration": 6,
    "start_time": "2024-10-04T14:51:59.427Z"
   },
   {
    "duration": 11,
    "start_time": "2024-10-04T14:53:14.195Z"
   },
   {
    "duration": 11,
    "start_time": "2024-10-04T14:53:18.173Z"
   },
   {
    "duration": 37366,
    "start_time": "2024-10-04T14:53:19.940Z"
   },
   {
    "duration": 4,
    "start_time": "2024-10-04T14:53:57.308Z"
   },
   {
    "duration": 6,
    "start_time": "2024-10-04T14:53:57.314Z"
   },
   {
    "duration": 5,
    "start_time": "2024-10-04T14:53:57.323Z"
   },
   {
    "duration": 6,
    "start_time": "2024-10-04T14:53:57.329Z"
   },
   {
    "duration": 14,
    "start_time": "2024-10-04T14:54:54.913Z"
   },
   {
    "duration": 12,
    "start_time": "2024-10-04T14:55:00.736Z"
   },
   {
    "duration": 54973,
    "start_time": "2024-10-04T14:55:02.457Z"
   },
   {
    "duration": 5,
    "start_time": "2024-10-04T14:55:57.432Z"
   },
   {
    "duration": 7,
    "start_time": "2024-10-04T14:55:57.438Z"
   },
   {
    "duration": 15,
    "start_time": "2024-10-04T14:57:22.323Z"
   },
   {
    "duration": 12,
    "start_time": "2024-10-04T14:57:23.972Z"
   },
   {
    "duration": 65209,
    "start_time": "2024-10-04T14:57:24.882Z"
   },
   {
    "duration": 6,
    "start_time": "2024-10-04T14:58:30.093Z"
   },
   {
    "duration": 10,
    "start_time": "2024-10-04T14:58:30.100Z"
   },
   {
    "duration": 34,
    "start_time": "2024-10-04T14:59:22.412Z"
   },
   {
    "duration": 5,
    "start_time": "2024-10-04T14:59:23.860Z"
   },
   {
    "duration": 1517,
    "start_time": "2024-10-04T14:59:35.658Z"
   },
   {
    "duration": 57,
    "start_time": "2024-10-04T14:59:37.177Z"
   },
   {
    "duration": 5,
    "start_time": "2024-10-04T14:59:37.236Z"
   },
   {
    "duration": 11,
    "start_time": "2024-10-04T14:59:37.242Z"
   },
   {
    "duration": 9,
    "start_time": "2024-10-04T14:59:37.255Z"
   },
   {
    "duration": 3,
    "start_time": "2024-10-04T14:59:37.266Z"
   },
   {
    "duration": 12,
    "start_time": "2024-10-04T14:59:37.270Z"
   },
   {
    "duration": 13,
    "start_time": "2024-10-04T14:59:37.283Z"
   },
   {
    "duration": 31,
    "start_time": "2024-10-04T14:59:37.298Z"
   },
   {
    "duration": 859,
    "start_time": "2024-10-04T14:59:37.331Z"
   },
   {
    "duration": 191,
    "start_time": "2024-10-04T14:59:38.192Z"
   },
   {
    "duration": 5,
    "start_time": "2024-10-04T14:59:38.385Z"
   },
   {
    "duration": 397,
    "start_time": "2024-10-04T14:59:38.391Z"
   },
   {
    "duration": 7,
    "start_time": "2024-10-04T14:59:38.790Z"
   },
   {
    "duration": 452,
    "start_time": "2024-10-04T14:59:38.798Z"
   },
   {
    "duration": 192,
    "start_time": "2024-10-04T14:59:39.251Z"
   },
   {
    "duration": 1991,
    "start_time": "2024-10-04T14:59:39.444Z"
   },
   {
    "duration": 95,
    "start_time": "2024-10-04T14:59:41.531Z"
   },
   {
    "duration": 18,
    "start_time": "2024-10-04T14:59:41.628Z"
   },
   {
    "duration": 11,
    "start_time": "2024-10-04T14:59:41.648Z"
   },
   {
    "duration": 65944,
    "start_time": "2024-10-04T14:59:41.660Z"
   },
   {
    "duration": 5,
    "start_time": "2024-10-04T15:00:47.605Z"
   },
   {
    "duration": 10,
    "start_time": "2024-10-04T15:00:47.612Z"
   },
   {
    "duration": 41,
    "start_time": "2024-10-04T15:00:47.625Z"
   },
   {
    "duration": 5,
    "start_time": "2024-10-04T15:00:47.667Z"
   },
   {
    "duration": 19,
    "start_time": "2024-10-04T15:00:47.674Z"
   },
   {
    "duration": 9,
    "start_time": "2024-10-04T15:00:47.694Z"
   },
   {
    "duration": 1547,
    "start_time": "2024-10-04T15:01:09.243Z"
   },
   {
    "duration": 58,
    "start_time": "2024-10-04T15:01:10.792Z"
   },
   {
    "duration": 5,
    "start_time": "2024-10-04T15:01:10.852Z"
   },
   {
    "duration": 15,
    "start_time": "2024-10-04T15:01:10.858Z"
   },
   {
    "duration": 11,
    "start_time": "2024-10-04T15:01:10.874Z"
   },
   {
    "duration": 9,
    "start_time": "2024-10-04T15:01:10.887Z"
   },
   {
    "duration": 15,
    "start_time": "2024-10-04T15:01:10.898Z"
   },
   {
    "duration": 37,
    "start_time": "2024-10-04T15:01:10.914Z"
   },
   {
    "duration": 25,
    "start_time": "2024-10-04T15:01:10.953Z"
   },
   {
    "duration": 821,
    "start_time": "2024-10-04T15:01:10.981Z"
   },
   {
    "duration": 185,
    "start_time": "2024-10-04T15:01:11.803Z"
   },
   {
    "duration": 7,
    "start_time": "2024-10-04T15:01:11.989Z"
   },
   {
    "duration": 440,
    "start_time": "2024-10-04T15:01:11.997Z"
   },
   {
    "duration": 8,
    "start_time": "2024-10-04T15:01:12.439Z"
   },
   {
    "duration": 413,
    "start_time": "2024-10-04T15:01:12.448Z"
   },
   {
    "duration": 193,
    "start_time": "2024-10-04T15:01:12.863Z"
   },
   {
    "duration": 1972,
    "start_time": "2024-10-04T15:01:13.058Z"
   },
   {
    "duration": 94,
    "start_time": "2024-10-04T15:01:15.033Z"
   },
   {
    "duration": 111,
    "start_time": "2024-10-04T15:01:15.129Z"
   },
   {
    "duration": 12,
    "start_time": "2024-10-04T15:01:15.242Z"
   },
   {
    "duration": 79570,
    "start_time": "2024-10-04T15:01:15.256Z"
   },
   {
    "duration": 6,
    "start_time": "2024-10-04T15:02:34.828Z"
   },
   {
    "duration": 5,
    "start_time": "2024-10-04T15:02:34.835Z"
   },
   {
    "duration": 35,
    "start_time": "2024-10-04T15:02:34.841Z"
   },
   {
    "duration": 5,
    "start_time": "2024-10-04T15:02:34.878Z"
   },
   {
    "duration": 5,
    "start_time": "2024-10-04T15:02:34.884Z"
   },
   {
    "duration": 36,
    "start_time": "2024-10-04T15:02:34.891Z"
   },
   {
    "duration": 1492,
    "start_time": "2024-10-04T15:03:10.678Z"
   },
   {
    "duration": 57,
    "start_time": "2024-10-04T15:03:12.172Z"
   },
   {
    "duration": 5,
    "start_time": "2024-10-04T15:03:12.231Z"
   },
   {
    "duration": 10,
    "start_time": "2024-10-04T15:03:12.238Z"
   },
   {
    "duration": 8,
    "start_time": "2024-10-04T15:03:12.249Z"
   },
   {
    "duration": 113,
    "start_time": "2024-10-04T15:03:12.259Z"
   },
   {
    "duration": 10,
    "start_time": "2024-10-04T15:03:12.374Z"
   },
   {
    "duration": 12,
    "start_time": "2024-10-04T15:03:12.386Z"
   },
   {
    "duration": 8,
    "start_time": "2024-10-04T15:03:12.399Z"
   },
   {
    "duration": 864,
    "start_time": "2024-10-04T15:03:12.410Z"
   },
   {
    "duration": 183,
    "start_time": "2024-10-04T15:03:13.276Z"
   },
   {
    "duration": 5,
    "start_time": "2024-10-04T15:03:13.461Z"
   },
   {
    "duration": 369,
    "start_time": "2024-10-04T15:03:13.468Z"
   },
   {
    "duration": 8,
    "start_time": "2024-10-04T15:03:13.839Z"
   },
   {
    "duration": 417,
    "start_time": "2024-10-04T15:03:13.849Z"
   },
   {
    "duration": 196,
    "start_time": "2024-10-04T15:03:14.268Z"
   },
   {
    "duration": 1965,
    "start_time": "2024-10-04T15:03:14.466Z"
   },
   {
    "duration": 95,
    "start_time": "2024-10-04T15:03:16.433Z"
   },
   {
    "duration": 115,
    "start_time": "2024-10-04T15:03:16.531Z"
   },
   {
    "duration": 13,
    "start_time": "2024-10-04T15:03:16.647Z"
   },
   {
    "duration": 106081,
    "start_time": "2024-10-04T15:03:16.661Z"
   },
   {
    "duration": 6,
    "start_time": "2024-10-04T15:05:02.744Z"
   },
   {
    "duration": 27,
    "start_time": "2024-10-04T15:05:02.752Z"
   },
   {
    "duration": 35,
    "start_time": "2024-10-04T15:05:02.781Z"
   },
   {
    "duration": 10,
    "start_time": "2024-10-04T15:05:02.817Z"
   },
   {
    "duration": 16,
    "start_time": "2024-10-04T15:05:02.828Z"
   },
   {
    "duration": 12,
    "start_time": "2024-10-04T15:05:02.845Z"
   },
   {
    "duration": 1558,
    "start_time": "2024-10-04T15:05:49.909Z"
   },
   {
    "duration": 57,
    "start_time": "2024-10-04T15:05:51.469Z"
   },
   {
    "duration": 7,
    "start_time": "2024-10-04T15:05:51.528Z"
   },
   {
    "duration": 22,
    "start_time": "2024-10-04T15:05:51.536Z"
   },
   {
    "duration": 9,
    "start_time": "2024-10-04T15:05:51.559Z"
   },
   {
    "duration": 2,
    "start_time": "2024-10-04T15:05:51.570Z"
   },
   {
    "duration": 11,
    "start_time": "2024-10-04T15:05:51.574Z"
   },
   {
    "duration": 27,
    "start_time": "2024-10-04T15:05:51.586Z"
   },
   {
    "duration": 8,
    "start_time": "2024-10-04T15:05:51.615Z"
   },
   {
    "duration": 857,
    "start_time": "2024-10-04T15:05:51.625Z"
   },
   {
    "duration": 185,
    "start_time": "2024-10-04T15:05:52.483Z"
   },
   {
    "duration": 5,
    "start_time": "2024-10-04T15:05:52.670Z"
   },
   {
    "duration": 370,
    "start_time": "2024-10-04T15:05:52.676Z"
   },
   {
    "duration": 7,
    "start_time": "2024-10-04T15:05:53.048Z"
   },
   {
    "duration": 421,
    "start_time": "2024-10-04T15:05:53.056Z"
   },
   {
    "duration": 195,
    "start_time": "2024-10-04T15:05:53.479Z"
   },
   {
    "duration": 2057,
    "start_time": "2024-10-04T15:05:53.675Z"
   },
   {
    "duration": 91,
    "start_time": "2024-10-04T15:05:55.735Z"
   },
   {
    "duration": 120,
    "start_time": "2024-10-04T15:05:55.829Z"
   },
   {
    "duration": 13,
    "start_time": "2024-10-04T15:05:55.950Z"
   },
   {
    "duration": 119818,
    "start_time": "2024-10-04T15:05:55.965Z"
   },
   {
    "duration": 5,
    "start_time": "2024-10-04T15:07:55.785Z"
   },
   {
    "duration": 82,
    "start_time": "2024-10-04T15:07:55.792Z"
   },
   {
    "duration": 14,
    "start_time": "2024-10-04T15:07:55.876Z"
   },
   {
    "duration": 6,
    "start_time": "2024-10-04T15:07:55.891Z"
   },
   {
    "duration": 7,
    "start_time": "2024-10-04T15:07:55.899Z"
   },
   {
    "duration": 6,
    "start_time": "2024-10-04T15:07:55.908Z"
   },
   {
    "duration": 1511,
    "start_time": "2024-10-04T15:08:26.274Z"
   },
   {
    "duration": 58,
    "start_time": "2024-10-04T15:08:27.787Z"
   },
   {
    "duration": 19,
    "start_time": "2024-10-04T15:08:27.847Z"
   },
   {
    "duration": 10,
    "start_time": "2024-10-04T15:08:27.868Z"
   },
   {
    "duration": 9,
    "start_time": "2024-10-04T15:08:27.879Z"
   },
   {
    "duration": 4,
    "start_time": "2024-10-04T15:08:27.890Z"
   },
   {
    "duration": 12,
    "start_time": "2024-10-04T15:08:27.895Z"
   },
   {
    "duration": 38,
    "start_time": "2024-10-04T15:08:27.908Z"
   },
   {
    "duration": 8,
    "start_time": "2024-10-04T15:08:27.948Z"
   },
   {
    "duration": 859,
    "start_time": "2024-10-04T15:08:27.959Z"
   },
   {
    "duration": 198,
    "start_time": "2024-10-04T15:08:28.820Z"
   },
   {
    "duration": 6,
    "start_time": "2024-10-04T15:08:29.024Z"
   },
   {
    "duration": 407,
    "start_time": "2024-10-04T15:08:29.031Z"
   },
   {
    "duration": 8,
    "start_time": "2024-10-04T15:08:29.439Z"
   },
   {
    "duration": 502,
    "start_time": "2024-10-04T15:08:29.449Z"
   },
   {
    "duration": 201,
    "start_time": "2024-10-04T15:08:29.953Z"
   },
   {
    "duration": 1675,
    "start_time": "2024-10-04T15:08:30.157Z"
   },
   {
    "duration": 99,
    "start_time": "2024-10-04T15:08:31.927Z"
   },
   {
    "duration": 73,
    "start_time": "2024-10-04T15:08:32.027Z"
   },
   {
    "duration": 12,
    "start_time": "2024-10-04T15:08:32.102Z"
   },
   {
    "duration": 128330,
    "start_time": "2024-10-04T15:08:32.116Z"
   },
   {
    "duration": 5,
    "start_time": "2024-10-04T15:10:40.447Z"
   },
   {
    "duration": 8,
    "start_time": "2024-10-04T15:10:40.454Z"
   },
   {
    "duration": 5,
    "start_time": "2024-10-04T15:10:40.464Z"
   },
   {
    "duration": 6,
    "start_time": "2024-10-04T15:10:40.470Z"
   },
   {
    "duration": 6,
    "start_time": "2024-10-04T15:10:40.477Z"
   },
   {
    "duration": 5,
    "start_time": "2024-10-04T15:10:40.485Z"
   },
   {
    "duration": 1590,
    "start_time": "2024-10-04T15:18:54.714Z"
   },
   {
    "duration": 58,
    "start_time": "2024-10-04T15:18:56.306Z"
   },
   {
    "duration": 58,
    "start_time": "2024-10-04T15:18:56.366Z"
   },
   {
    "duration": 10,
    "start_time": "2024-10-04T15:18:56.426Z"
   },
   {
    "duration": 8,
    "start_time": "2024-10-04T15:18:56.439Z"
   },
   {
    "duration": 2,
    "start_time": "2024-10-04T15:18:56.449Z"
   },
   {
    "duration": 26,
    "start_time": "2024-10-04T15:18:56.453Z"
   },
   {
    "duration": 12,
    "start_time": "2024-10-04T15:18:56.480Z"
   },
   {
    "duration": 9,
    "start_time": "2024-10-04T15:18:56.493Z"
   },
   {
    "duration": 879,
    "start_time": "2024-10-04T15:18:56.503Z"
   },
   {
    "duration": 184,
    "start_time": "2024-10-04T15:18:57.384Z"
   },
   {
    "duration": 6,
    "start_time": "2024-10-04T15:18:57.569Z"
   },
   {
    "duration": 377,
    "start_time": "2024-10-04T15:18:57.576Z"
   },
   {
    "duration": 7,
    "start_time": "2024-10-04T15:18:57.955Z"
   },
   {
    "duration": 431,
    "start_time": "2024-10-04T15:18:57.963Z"
   },
   {
    "duration": 186,
    "start_time": "2024-10-04T15:18:58.395Z"
   },
   {
    "duration": 2244,
    "start_time": "2024-10-04T15:18:58.583Z"
   },
   {
    "duration": 96,
    "start_time": "2024-10-04T15:19:00.829Z"
   },
   {
    "duration": 27,
    "start_time": "2024-10-04T15:19:00.927Z"
   },
   {
    "duration": 12,
    "start_time": "2024-10-04T15:19:00.955Z"
   },
   {
    "duration": 128115,
    "start_time": "2024-10-04T15:19:00.968Z"
   },
   {
    "duration": 5,
    "start_time": "2024-10-04T15:21:09.084Z"
   },
   {
    "duration": 4,
    "start_time": "2024-10-04T15:21:09.091Z"
   },
   {
    "duration": 6,
    "start_time": "2024-10-04T15:21:09.097Z"
   },
   {
    "duration": 6,
    "start_time": "2024-10-04T15:21:09.105Z"
   },
   {
    "duration": 6,
    "start_time": "2024-10-04T15:21:09.113Z"
   },
   {
    "duration": 5,
    "start_time": "2024-10-04T15:21:09.121Z"
   },
   {
    "duration": 1743,
    "start_time": "2024-10-04T19:49:54.161Z"
   }
  ],
  "kernelspec": {
   "display_name": "Python 3 (ipykernel)",
   "language": "python",
   "name": "python3"
  },
  "language_info": {
   "codemirror_mode": {
    "name": "ipython",
    "version": 3
   },
   "file_extension": ".py",
   "mimetype": "text/x-python",
   "name": "python",
   "nbconvert_exporter": "python",
   "pygments_lexer": "ipython3",
   "version": "3.12.4"
  },
  "toc": {
   "base_numbering": 1,
   "nav_menu": {},
   "number_sections": true,
   "sideBar": true,
   "skip_h1_title": true,
   "title_cell": "Содержание",
   "title_sidebar": "Contents",
   "toc_cell": true,
   "toc_position": {
    "height": "calc(100% - 180px)",
    "left": "10px",
    "top": "150px",
    "width": "165px"
   },
   "toc_section_display": true,
   "toc_window_display": true
  }
 },
 "nbformat": 4,
 "nbformat_minor": 4
}
